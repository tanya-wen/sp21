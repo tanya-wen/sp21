{
 "cells": [
  {
   "cell_type": "code",
   "execution_count": 1,
   "metadata": {
    "deletable": false,
    "editable": false
   },
   "outputs": [],
   "source": [
    "# Initialize Otter\n",
    "import otter\n",
    "grader = otter.Notebook(\"hw7.ipynb\")"
   ]
  },
  {
   "cell_type": "markdown",
   "metadata": {
    "nbgrader": {
     "grade": false,
     "grade_id": "cell-e0f9b2de18190d9d",
     "locked": true,
     "schema_version": 1,
     "solution": false
    }
   },
   "source": [
    "# Homework 7: Predicting Housing Prices\n",
    "\n",
    "## Due Date: 11:59pm Thursday, March 18th (Tentative)\n",
    "\n",
    "### Collaboration Policy\n",
    "\n",
    "Data science is a collaborative activity. While you may talk with others about the homework, we ask that you **write your solutions individually**. If you do discuss the assignments with others please **include their names** in the collaborators cell below."
   ]
  },
  {
   "cell_type": "markdown",
   "metadata": {},
   "source": [
    "**Collaborators:** *list names here*"
   ]
  },
  {
   "cell_type": "markdown",
   "metadata": {},
   "source": [
    "## Introduction\n",
    "\n",
    "In this homework, we will go through the iterative process of specifying, fitting, and analyzing the performance of a  model.  \n",
    "\n",
    "In the first portion of the assignment, we will guide you through some basic exploratory data analysis (EDA), laying out the thought process that leads to certain modeling decisions. Next, you will be adding a few new features to the dataset, cleaning the data as well in the process. Then, you will specify and fit a linear model to a few features of the housing data to predict housing prices. Finally, we will analyze the error of the model and brainstorm ways to improve the model's performance.\n",
    "\n",
    "After this homework, you should feel comfortable with the following:\n",
    "\n",
    "1. Simple feature engineering\n",
    "1. Using sklearn to build linear models\n",
    "1. Building a data pipeline using pandas\n",
    "\n",
    "## Score Breakdown\n",
    "\n",
    "Question | Part | Points\n",
    "----|----|----\n",
    "0 | 1 | 1\n",
    "0 | 2 | 1\n",
    "1 | 1 | 1\n",
    "1 | 2 | 1\n",
    "2 | 1 | 3\n",
    "2 | 2 | 1\n",
    "2 | 3 | 1\n",
    "3 | 1 | 1\n",
    "3 | 2 | 2\n",
    "4 | 1 | 1\n",
    "4 | 2 | 2\n",
    "4 | 3 | 2\n",
    "5 | 1 | 1\n",
    "5 | 2 | 2\n",
    "5 | 3 | 1\n",
    "5 | 4 | 2\n",
    "5 | 5 | 1\n",
    "6 | 1 | 1\n",
    "6 | 2 | 2\n",
    "7 | 1 | 2\n",
    "7 | 2 | 1\n",
    "7 | 3 | 3\n",
    "7 | 4 | 1 \n",
    "7 | 5 | 2\n",
    "7 | 6 | 1\n",
    "7 | 7 | 2\n",
    "8 | - | 6\n",
    "Total | - | 45"
   ]
  },
  {
   "cell_type": "code",
   "execution_count": 2,
   "metadata": {
    "nbgrader": {
     "grade": false,
     "grade_id": "cell-62cfd21463535cac",
     "locked": true,
     "schema_version": 1,
     "solution": false
    }
   },
   "outputs": [],
   "source": [
    "import numpy as np\n",
    "\n",
    "import pandas as pd\n",
    "from pandas.api.types import CategoricalDtype\n",
    "\n",
    "%matplotlib inline\n",
    "import matplotlib.pyplot as plt\n",
    "import seaborn as sns\n",
    "\n",
    "import warnings\n",
    "warnings.filterwarnings(\"ignore\")\n",
    "\n",
    "import zipfile\n",
    "import os\n",
    "import re\n",
    "\n",
    "from ds100_utils import run_linear_regression_test\n",
    "\n",
    "# Plot settings\n",
    "plt.rcParams['figure.figsize'] = (12, 9)\n",
    "plt.rcParams['font.size'] = 12"
   ]
  },
  {
   "cell_type": "markdown",
   "metadata": {
    "nbgrader": {
     "grade": false,
     "grade_id": "cell-f68729731e7fe39d",
     "locked": true,
     "schema_version": 1,
     "solution": false
    }
   },
   "source": [
    "# The Data\n",
    "\n",
    "The dataset you’ll be working with comes from the Cook County Assessor’s Office (CCAO) in Illinois, a government institution that determines property taxes across most of Chicago’s metropolitan area and its nearby suburbs. In the United States, all property owners are required to pay property taxes, which are then used to fund public services including education, road maintenance, and sanitation. These property tax assessments are based on property values estimated using statistical models that consider multiple factors, such as real estate value and construction cost.\n",
    "\n",
    "The CCAO dataset consists of over 500 thousand records describing houses sold in Cook County in recent years (new records are still coming in every week!). The data set we will be working with has 61 features in total. An explanation of each variable can be found in the included `codebook.txt` file. Some of the columns have been filtered out to ensure this assignment doesn't become overly long when dealing with data cleaning and formatting.\n",
    "\n",
    "The data are split into training and test sets with 204792 and 68264 observations, respectively.\n",
    "\n",
    "Let's first extract the data from the `cook_county_data.zip`. Notice we didn't leave the `csv` files directly in the directory because they take up too much space without some prior compression."
   ]
  },
  {
   "cell_type": "code",
   "execution_count": 3,
   "metadata": {},
   "outputs": [],
   "source": [
    "with zipfile.ZipFile('cook_county_data.zip') as item:\n",
    "    item.extractall()"
   ]
  },
  {
   "cell_type": "markdown",
   "metadata": {},
   "source": [
    "Let's load the training and test data."
   ]
  },
  {
   "cell_type": "code",
   "execution_count": 4,
   "metadata": {
    "nbgrader": {
     "grade": false,
     "grade_id": "cell-e8fea30adc9d489b",
     "locked": true,
     "schema_version": 1,
     "solution": false
    }
   },
   "outputs": [],
   "source": [
    "training_data = pd.read_csv(\"cook_county_train.csv\", index_col='Unnamed: 0')\n",
    "test_data = pd.read_csv(\"cook_county_test.csv\", index_col='Unnamed: 0')"
   ]
  },
  {
   "cell_type": "markdown",
   "metadata": {
    "nbgrader": {
     "grade": false,
     "grade_id": "cell-9d6d509b6e854e10",
     "locked": true,
     "schema_version": 1,
     "solution": false
    }
   },
   "source": [
    "As a good sanity check, we should at least verify that the data shape matches the description."
   ]
  },
  {
   "cell_type": "code",
   "execution_count": 5,
   "metadata": {
    "nbgrader": {
     "grade": false,
     "grade_id": "cell-c841a2de55691502",
     "locked": true,
     "schema_version": 1,
     "solution": false
    }
   },
   "outputs": [],
   "source": [
    "# 206032 observations and 68 features in training data\n",
    "assert training_data.shape == (204792, 62)\n",
    "# 68678 observations and 68 features in test data\n",
    "assert test_data.shape == (68264, 61)\n",
    "# Sale Price is provided in the training data\n",
    "assert 'Sale Price' in training_data.columns.values\n",
    "# Sale Price is hidden in the test data\n",
    "assert 'Sale Price' not in test_data.columns.values"
   ]
  },
  {
   "cell_type": "markdown",
   "metadata": {
    "nbgrader": {
     "grade": false,
     "grade_id": "cell-ce9acc2f62c96e59",
     "locked": true,
     "schema_version": 1,
     "solution": false
    }
   },
   "source": [
    "The next order of business is getting a feel for the variables in our data.  The Cook County data set contains information that typical homebuyers would want to know.  A more detailed description of each variable is included in `codebook.txt` (in the same directory as this notebook).  **You should take some time to familiarize yourself with the codebook before moving forward.**\n",
    "\n",
    "Let's take a quick look at all the current columns in our training data."
   ]
  },
  {
   "cell_type": "code",
   "execution_count": 6,
   "metadata": {
    "nbgrader": {
     "grade": false,
     "grade_id": "cell-4e60a7a0cda5eecf",
     "locked": true,
     "schema_version": 1,
     "solution": false
    }
   },
   "outputs": [
    {
     "data": {
      "text/plain": [
       "array(['PIN', 'Property Class', 'Neighborhood Code', 'Land Square Feet',\n",
       "       'Town Code', 'Apartments', 'Wall Material', 'Roof Material',\n",
       "       'Basement', 'Basement Finish', 'Central Heating', 'Other Heating',\n",
       "       'Central Air', 'Fireplaces', 'Attic Type', 'Attic Finish',\n",
       "       'Design Plan', 'Cathedral Ceiling', 'Construction Quality',\n",
       "       'Site Desirability', 'Garage 1 Size', 'Garage 1 Material',\n",
       "       'Garage 1 Attachment', 'Garage 1 Area', 'Garage 2 Size',\n",
       "       'Garage 2 Material', 'Garage 2 Attachment', 'Garage 2 Area',\n",
       "       'Porch', 'Other Improvements', 'Building Square Feet',\n",
       "       'Repair Condition', 'Multi Code', 'Number of Commercial Units',\n",
       "       'Estimate (Land)', 'Estimate (Building)', 'Deed No.', 'Sale Price',\n",
       "       'Longitude', 'Latitude', 'Census Tract',\n",
       "       'Multi Property Indicator', 'Modeling Group', 'Age', 'Use',\n",
       "       \"O'Hare Noise\", 'Floodplain', 'Road Proximity', 'Sale Year',\n",
       "       'Sale Quarter', 'Sale Half-Year', 'Sale Quarter of Year',\n",
       "       'Sale Month of Year', 'Sale Half of Year', 'Most Recent Sale',\n",
       "       'Age Decade', 'Pure Market Filter', 'Garage Indicator',\n",
       "       'Neigborhood Code (mapping)', 'Town and Neighborhood',\n",
       "       'Description', 'Lot Size'], dtype=object)"
      ]
     },
     "execution_count": 6,
     "metadata": {},
     "output_type": "execute_result"
    }
   ],
   "source": [
    "training_data.columns.values"
   ]
  },
  {
   "cell_type": "markdown",
   "metadata": {
    "deletable": false,
    "editable": false
   },
   "source": [
    "<!-- BEGIN QUESTION -->\n",
    "\n",
    "# Part 0: Background\n",
    "\n",
    "Let's try to understand the background of our dataset before diving into a full-scale analysis. \n",
    "\n",
    "## Question 0\n",
    "\n",
    "### Part 1\n",
    "\n",
    "Given that this data compiled by the CCAO (as opposed to other assessor’s offices), find a column that would most likely only be collected in Cook County. What does this column represent?\n",
    "\n",
    "<!--\n",
    "BEGIN QUESTION\n",
    "name: q0i\n",
    "points: 1\n",
    "manual: True\n",
    "-->"
   ]
  },
  {
   "cell_type": "markdown",
   "metadata": {},
   "source": [
    "_Type your answer here, replacing this text._"
   ]
  },
  {
   "cell_type": "markdown",
   "metadata": {
    "deletable": false,
    "editable": false
   },
   "source": [
    "<!-- END QUESTION -->\n",
    "\n",
    "<!-- BEGIN QUESTION -->\n",
    "\n",
    "### Part 2\n",
    "\n",
    "Name a feature that isn't listed in this dataset but may be useful for predicting sales values. What insights could this feature provide? How might it increase or decrease a home’s sales value?\n",
    "\n",
    "<!--\n",
    "BEGIN QUESTION\n",
    "name: q0ii\n",
    "points: 1\n",
    "manual: True\n",
    "-->"
   ]
  },
  {
   "cell_type": "markdown",
   "metadata": {},
   "source": [
    "_Type your answer here, replacing this text._"
   ]
  },
  {
   "cell_type": "markdown",
   "metadata": {
    "nbgrader": {
     "grade": false,
     "grade_id": "cell-ba0f6926b0dafefb",
     "locked": true,
     "schema_version": 1,
     "solution": false
    }
   },
   "source": [
    "<!-- END QUESTION -->\n",
    "\n",
    "\n",
    "\n",
    "# Part 1: Exploratory Data Analysis\n",
    "\n",
    "In this section, we will make a series of exploratory visualizations and interpret them.\n",
    "\n",
    "Note that we will perform EDA on the **training data** so that information from the test data does not influence our modeling decisions.\n",
    "\n",
    "### Sale Price\n",
    "We begin by examining the distribution of our target variable `SalePrice`.  At the same time, we also take a look at some descriptive statistics of this variable. We have provided the following helper method `plot_distribution` that you can use to visualize the distribution of the SalePrice using both the histogram and the box plot at the same time. Run the following 2 cells and describe what you think is wrong with the visualization."
   ]
  },
  {
   "cell_type": "code",
   "execution_count": 7,
   "metadata": {
    "nbgrader": {
     "grade": false,
     "grade_id": "cell-15d483a695655cea",
     "locked": true,
     "schema_version": 1,
     "solution": false
    }
   },
   "outputs": [],
   "source": [
    "def plot_distribution(data, label):\n",
    "    fig, axs = plt.subplots(nrows=2)\n",
    "\n",
    "    sns.distplot(\n",
    "        data[label], \n",
    "        ax=axs[0]\n",
    "    )\n",
    "    sns.boxplot(\n",
    "        data[label],\n",
    "        width=0.3, \n",
    "        ax=axs[1],\n",
    "        showfliers=False,\n",
    "    )\n",
    "\n",
    "    # Align axes\n",
    "    spacer = np.max(data[label]) * 0.05\n",
    "    xmin = np.min(data[label]) - spacer\n",
    "    xmax = np.max(data[label]) + spacer\n",
    "    axs[0].set_xlim((xmin, xmax))\n",
    "    axs[1].set_xlim((xmin, xmax))\n",
    "\n",
    "    # Remove some axis text\n",
    "    axs[0].xaxis.set_visible(False)\n",
    "    axs[0].yaxis.set_visible(False)\n",
    "    axs[1].yaxis.set_visible(False)\n",
    "\n",
    "    # Put the two plots together\n",
    "    plt.subplots_adjust(hspace=0)\n",
    "\n",
    "    # Adjust boxplot fill to be white\n",
    "    axs[1].artists[0].set_facecolor('white')"
   ]
  },
  {
   "cell_type": "code",
   "execution_count": 8,
   "metadata": {},
   "outputs": [
    {
     "data": {
      "image/png": "[encoded data removed]",
      "text/plain": [
       "<Figure size 864x648 with 2 Axes>"
      ]
     },
     "metadata": {
      "needs_background": "light"
     },
     "output_type": "display_data"
    }
   ],
   "source": [
    "plot_distribution(training_data, label='Sale Price')"
   ]
  },
  {
   "cell_type": "markdown",
   "metadata": {
    "deletable": false,
    "editable": false
   },
   "source": [
    "<!-- BEGIN QUESTION -->\n",
    "\n",
    "## Question 1\n",
    "\n",
    "### Part 1\n",
    "\n",
    "Identify one issue with the visualization above and briefly describe one way to overcome it. You may also want to try running `training_data['Sale Price'].describe()` in a different cell to see some specific summary statistics on the distribution of the target variable. Make sure to delete the cell afterwards as the autograder may not work otherwise.\n",
    "\n",
    "<!--\n",
    "BEGIN QUESTION\n",
    "name: q1i\n",
    "points: 1\n",
    "manual: True\n",
    "-->"
   ]
  },
  {
   "cell_type": "markdown",
   "metadata": {},
   "source": [
    "Problem is outliers in sale price (most prices are between 0.45 - 3.12 * 10^5), but the max is 7.10 * 10^7\n",
    "\n",
    "We could log transform sales price."
   ]
  },
  {
   "cell_type": "markdown",
   "metadata": {
    "deletable": false,
    "editable": false
   },
   "source": [
    "<!-- END QUESTION -->\n",
    "\n",
    "### Part 2\n",
    "\n",
    "To zoom in on the visualization of most households, we will focus only on a subset of `Sale Price` for this assignment. In addition, it may be a good idea to apply log transformation to `Sale Price`. In the cell below, reassign a new dataframe that is the same as the original one to `training_data` **except with the following changes**:\n",
    "\n",
    "- `training_data` should contain only households whose price is at least $500.\n",
    "- `training_data` should contain a new `Log Sale Price` column that contains the log-transformed sale prices.\n",
    "\n",
    "**Note**: This also implies from now on, our target variable in the model will be the log transformed sale prices from the column `Log Sale Price`. \n",
    "\n",
    "**Note**: You should **NOT** remove the original column `Sale Price` as it will be helpful for later questions.\n",
    "\n",
    "*To ensure that any error from this part does not propagate to later questions, there will be no hidden test here.*\n",
    "\n",
    "\n",
    "<!--\n",
    "BEGIN QUESTION\n",
    "name: q1ii\n",
    "points: 1\n",
    "-->"
   ]
  },
  {
   "cell_type": "code",
   "execution_count": 9,
   "metadata": {},
   "outputs": [],
   "source": [
    "training_data = training_data[training_data['Sale Price'] >= 500]\n",
    "training_data['Log Sale Price'] = np.log(training_data['Sale Price'])"
   ]
  },
  {
   "cell_type": "code",
   "execution_count": 10,
   "metadata": {
    "deletable": false,
    "editable": false
   },
   "outputs": [
    {
     "data": {
      "text/html": [
       "<p><strong><pre style='display: inline;'>q1ii</pre></strong> passed!</p>"
      ],
      "text/plain": [
       "q1ii results: All test cases passed!"
      ]
     },
     "execution_count": 10,
     "metadata": {},
     "output_type": "execute_result"
    }
   ],
   "source": [
    "grader.check(\"q1ii\")"
   ]
  },
  {
   "cell_type": "markdown",
   "metadata": {},
   "source": [
    "Let's create a new distribution plot on the log-transformed sale price."
   ]
  },
  {
   "cell_type": "code",
   "execution_count": 11,
   "metadata": {},
   "outputs": [
    {
     "data": {
      "image/png": "[encoded data removed]",
      "text/plain": [
       "<Figure size 864x648 with 2 Axes>"
      ]
     },
     "metadata": {
      "needs_background": "light"
     },
     "output_type": "display_data"
    }
   ],
   "source": [
    "plot_distribution(training_data, label='Log Sale Price');"
   ]
  },
  {
   "cell_type": "markdown",
   "metadata": {
    "deletable": false,
    "editable": false,
    "nbgrader": {
     "grade": false,
     "grade_id": "cell-592d5f41ebd67ee2",
     "locked": true,
     "schema_version": 1,
     "solution": false
    }
   },
   "source": [
    "## Question 2 \n",
    "\n",
    "### Part 1\n",
    "To check your understanding of the graph and summary statistics above, answer the following `True` or `False` questions:\n",
    "\n",
    "1. The distribution of `Log Sale Price` in the training set is left-skewed.\n",
    "1. The mean of `Log Sale Price` in the training set is greater than the median.\n",
    "1. At least 25% of the houses in the training set sold for more than \\$200,000.00.\n",
    "\n",
    "*The provided tests for this question do not confirm that you have answered correctly; only that you have assigned each variable to `True` or `False`.*\n",
    "\n",
    "<!--\n",
    "BEGIN QUESTION\n",
    "name: q2i\n",
    "points: 3\n",
    "-->"
   ]
  },
  {
   "cell_type": "code",
   "execution_count": 12,
   "metadata": {
    "nbgrader": {
     "grade": false,
     "grade_id": "q1-answer",
     "locked": false,
     "schema_version": 1,
     "solution": true
    }
   },
   "outputs": [],
   "source": [
    "# These should be True or False\n",
    "q2statement1 = True\n",
    "q2statement2 = False\n",
    "q2statement3 = True"
   ]
  },
  {
   "cell_type": "code",
   "execution_count": 13,
   "metadata": {
    "deletable": false,
    "editable": false
   },
   "outputs": [
    {
     "data": {
      "text/html": [
       "<p><strong><pre style='display: inline;'>q2i</pre></strong> passed!</p>"
      ],
      "text/plain": [
       "q2i results: All test cases passed!"
      ]
     },
     "execution_count": 13,
     "metadata": {},
     "output_type": "execute_result"
    }
   ],
   "source": [
    "grader.check(\"q2i\")"
   ]
  },
  {
   "cell_type": "markdown",
   "metadata": {
    "deletable": false,
    "editable": false,
    "nbgrader": {
     "grade": false,
     "grade_id": "cell-9e22aac9b45f88e3",
     "locked": true,
     "schema_version": 1,
     "solution": false
    }
   },
   "source": [
    "### Part 2\n",
    "\n",
    "Next, we want to explore if any there is any correlation between `Log Sale Price` and the total area occupied by the household. The `codebook.txt` file tells us the column `Building Square Feet` should do the trick -- it measures \"(from the exterior) the total area, in square feet, occupied by the building\".\n",
    "\n",
    "Before creating this jointplot however, let's also apply a log transformation to the `Building Square Feet` column.\n",
    "\n",
    "In the following cell, create a new column `Log Building Square Feet` in our training data that contains the log transformed area occupied by each household. \n",
    "\n",
    "**You should NOT remove the original `Building Square Feet` column this time as it will be used for later questions**. \n",
    "\n",
    "*To ensure that any errors from this part do not propagate to later questions, there will be no hidden tests here.*\n",
    "\n",
    "<!--\n",
    "BEGIN QUESTION\n",
    "name: q2ii\n",
    "points: 1\n",
    "-->"
   ]
  },
  {
   "cell_type": "code",
   "execution_count": 14,
   "metadata": {},
   "outputs": [],
   "source": [
    "training_data['Log Building Square Feet'] = np.log(training_data['Building Square Feet'])"
   ]
  },
  {
   "cell_type": "code",
   "execution_count": 15,
   "metadata": {
    "deletable": false,
    "editable": false
   },
   "outputs": [
    {
     "data": {
      "text/html": [
       "<p><strong style='color: red;'><pre style='display: inline;'>q2ii</pre> results:</strong></p><p><strong><pre style='display: inline;'>q2ii - 1</pre> result:</strong></p><pre>    Test case passed!</pre><p><strong><pre style='display: inline;'>q2ii - 2</pre> result:</strong></p><pre>    Trying:\n",
       "        training_data['Log Building Square Feet'].mean() == 7.2914293261161\n",
       "    Expecting:\n",
       "        True\n",
       "    **********************************************************************\n",
       "    Line 1, in q2ii 1\n",
       "    Failed example:\n",
       "        training_data['Log Building Square Feet'].mean() == 7.2914293261161\n",
       "    Expected:\n",
       "        True\n",
       "    Got:\n",
       "        False\n",
       "</pre>"
      ],
      "text/plain": [
       "q2ii results:\n",
       "    q2ii - 1 result:\n",
       "        Test case passed!\n",
       "\n",
       "    q2ii - 2 result:\n",
       "        Trying:\n",
       "            training_data['Log Building Square Feet'].mean() == 7.2914293261161\n",
       "        Expecting:\n",
       "            True\n",
       "        **********************************************************************\n",
       "        Line 1, in q2ii 1\n",
       "        Failed example:\n",
       "            training_data['Log Building Square Feet'].mean() == 7.2914293261161\n",
       "        Expected:\n",
       "            True\n",
       "        Got:\n",
       "            False"
      ]
     },
     "execution_count": 15,
     "metadata": {},
     "output_type": "execute_result"
    }
   ],
   "source": [
    "grader.check(\"q2ii\")"
   ]
  },
  {
   "cell_type": "markdown",
   "metadata": {
    "deletable": false,
    "editable": false
   },
   "source": [
    "<!-- BEGIN QUESTION -->\n",
    "\n",
    "### Part 3\n",
    "\n",
    "As shown below, we created a joint plot with `Log Building Square Feet` on the x-axis, and `Log Sale Price` on the y-axis. In addition, we fit a simple linear regression line through the bivariate scatter plot in the middle.\n",
    "\n",
    "Based on the following plot, does there exist a correlation between `Log Sale Price` and `Log Building Square Feet`? Would `Log Building Square Feet` make a good candidate as one of the features for our model?\n",
    "\n",
    "![Joint Plot](images/q2p3_jointplot.png)\n",
    "\n",
    "<!--\n",
    "BEGIN QUESTION\n",
    "name: q2iii\n",
    "points: 1\n",
    "manual: True\n",
    "-->"
   ]
  },
  {
   "cell_type": "markdown",
   "metadata": {},
   "source": [
    "Yes, there's a correlation. \n",
    "Would be a good candidate feature."
   ]
  },
  {
   "cell_type": "markdown",
   "metadata": {
    "deletable": false,
    "editable": false,
    "nbgrader": {
     "grade": false,
     "grade_id": "cell-e69fbfdd6101f836",
     "locked": true,
     "schema_version": 1,
     "solution": false
    }
   },
   "source": [
    "<!-- END QUESTION -->\n",
    "\n",
    "\n",
    "## Question 3 <a name=\"q2\"></a>\n",
    "\n",
    "### Part 1\n",
    "\n",
    "Although log transformation seems to have done quite a neat job of bringing the dataset closer together, let's still explore some of the outliers in the distribution of `Building Square Feet`. \n",
    "\n",
    "What are the Permanent Indentification Numbers (`PIN`) for the houses with `Building Square Feet` **strictly greater than 8000 sqft**? Assign `q2houses` with a numpy array that contains the PINs for all such houses.\n",
    "\n",
    "*The provided tests for this question do not confirm that you have answered correctly; only that you have assigned `q2houses` a numpy array and it contains valid PINs.*\n",
    "\n",
    "<!--\n",
    "BEGIN QUESTION\n",
    "name: q3i\n",
    "points: 1\n",
    "-->"
   ]
  },
  {
   "cell_type": "code",
   "execution_count": 16,
   "metadata": {
    "nbgrader": {
     "grade": false,
     "grade_id": "cell-eb0c9f329767dfc2",
     "locked": false,
     "schema_version": 1,
     "solution": true
    }
   },
   "outputs": [],
   "source": [
    "# Hint: You can answer this question in one line\n",
    "q2houses = training_data.loc[training_data['Building Square Feet'] > 8000, 'PIN'].to_numpy()"
   ]
  },
  {
   "cell_type": "code",
   "execution_count": 17,
   "metadata": {
    "deletable": false,
    "editable": false
   },
   "outputs": [
    {
     "data": {
      "text/html": [
       "<p><strong><pre style='display: inline;'>q3i</pre></strong> passed!</p>"
      ],
      "text/plain": [
       "q3i results: All test cases passed!"
      ]
     },
     "execution_count": 17,
     "metadata": {},
     "output_type": "execute_result"
    }
   ],
   "source": [
    "grader.check(\"q3i\")"
   ]
  },
  {
   "cell_type": "markdown",
   "metadata": {
    "deletable": false,
    "editable": false,
    "nbgrader": {
     "grade": false,
     "grade_id": "cell-bf7fe5dcd37df6f9",
     "locked": true,
     "schema_version": 1,
     "solution": false
    }
   },
   "source": [
    "### Part 2\n",
    "\n",
    "Continuing from the previous part, as you explore the data set, you might still run into more outliers that prevent you from creating a clear visualization or capturing the trend of the majority of the houses. \n",
    "\n",
    "For this assignment, we will work to remove these outliers from the data as we run into them. Write a function `remove_outliers` that removes outliers from a data set based off a threshold value of a variable.  For example, `remove_outliers(training_data, 'Building Square Feet', upper=8000)` should return a data frame with only observations that satisfy `Building Square Feet` less than or equal to 8000.\n",
    "\n",
    "*The provided tests check that training_data was updated correctly, so that future analyses are not corrupted by a mistake. However, the provided tests do not check that you have implemented remove_outliers correctly so that it works with any data, variable, lower, and upper bound.*\n",
    "\n",
    "<!--\n",
    "BEGIN QUESTION\n",
    "name: q3ii\n",
    "points: 2\n",
    "-->"
   ]
  },
  {
   "cell_type": "code",
   "execution_count": 18,
   "metadata": {
    "nbgrader": {
     "grade": false,
     "grade_id": "cell-9186ec2ca053d0aa",
     "locked": false,
     "schema_version": 1,
     "solution": true
    }
   },
   "outputs": [],
   "source": [
    "def remove_outliers(data, variable, lower=-np.inf, upper=np.inf):\n",
    "    \"\"\"\n",
    "    Input:\n",
    "      data (data frame): the table to be filtered\n",
    "      variable (string): the column with numerical outliers\n",
    "      lower (numeric): observations with values lower than this will be removed\n",
    "      upper (numeric): observations with values higher than this will be removed\n",
    "    \n",
    "    Output:\n",
    "      a winsorized data frame with outliers removed\n",
    "      \n",
    "    Note: This function should not change mutate the contents of data.\n",
    "    \"\"\"  \n",
    "    data = data.loc[data[variable] < lower, :]\n",
    "    data = data.loc[data[variable] > upper, :]\n",
    "\n",
    "    return data"
   ]
  },
  {
   "cell_type": "code",
   "execution_count": 19,
   "metadata": {
    "deletable": false,
    "editable": false
   },
   "outputs": [
    {
     "data": {
      "text/html": [
       "<p><strong><pre style='display: inline;'>q3ii</pre></strong> passed!</p>"
      ],
      "text/plain": [
       "q3ii results: All test cases passed!"
      ]
     },
     "execution_count": 19,
     "metadata": {},
     "output_type": "execute_result"
    }
   ],
   "source": [
    "grader.check(\"q3ii\")"
   ]
  },
  {
   "cell_type": "markdown",
   "metadata": {
    "deletable": false,
    "editable": false
   },
   "source": [
    "# Part 2: Feature Engineering\n",
    "\n",
    "In this section we will walk you through a few feature engineering techniques. \n",
    "\n",
    "### Bedrooms\n",
    "\n",
    "Let's start simple by extracting the total number of bathrooms as our first feature for the model. You may notice that the `Bedrooms` column doesn't actually exist in the original dataframe! Instead, it is part of the `Description` column.\n",
    "\n",
    "## Question 4 <a name=\"q4\"></a>\n",
    "\n",
    "### Part 1\n",
    "\n",
    "Let's take a closer look at the `Description` column first. Compare the description across a few rows together at the same time. For the following list of variables, how many of them can be extracted from the `Description` column? Assign your answer as an integer to the variable `q4a`.\n",
    "- The date the property was sold on\n",
    "- The number of stories the property contains\n",
    "- The previous owner of the property\n",
    "- The address of the property\n",
    "- The number of garages the property has\n",
    "- The total number of rooms inside the property\n",
    "- The total number of bedrooms inside the property\n",
    "- The total number of bathrooms inside the property\n",
    "\n",
    "\n",
    "<!--\n",
    "BEGIN QUESTION\n",
    "name: q4i\n",
    "points: 1\n",
    "-->"
   ]
  },
  {
   "cell_type": "code",
   "execution_count": 20,
   "metadata": {},
   "outputs": [],
   "source": [
    "q4a = 6"
   ]
  },
  {
   "cell_type": "code",
   "execution_count": 21,
   "metadata": {
    "deletable": false,
    "editable": false
   },
   "outputs": [
    {
     "data": {
      "text/html": [
       "<p><strong><pre style='display: inline;'>q4i</pre></strong> passed!</p>"
      ],
      "text/plain": [
       "q4i results: All test cases passed!"
      ]
     },
     "execution_count": 21,
     "metadata": {},
     "output_type": "execute_result"
    }
   ],
   "source": [
    "grader.check(\"q4i\")"
   ]
  },
  {
   "cell_type": "markdown",
   "metadata": {
    "deletable": false,
    "editable": false
   },
   "source": [
    "### Part 2\n",
    "\n",
    "Write a function `add_total_bedrooms(data)` that returns a copy of `data` with an additional column called `Bedrooms` that contains the total number of bathrooms (as integers) for each house. **Treat missing values as zeros if necessary**. Remember that you can make use of vectorized code here; you shouldn't need any `for` statements. \n",
    "\n",
    "**Hint**: You should consider inspecting the `Description` column to figure out if there is any general structure within the text. Once you have noticed a certain pattern, you are set with the power of Regex!\n",
    "\n",
    "<!--\n",
    "BEGIN QUESTION\n",
    "name: q4ii\n",
    "points: 2\n",
    "-->"
   ]
  },
  {
   "cell_type": "code",
   "execution_count": 22,
   "metadata": {},
   "outputs": [],
   "source": [
    "def add_total_bedrooms(data):\n",
    "    \"\"\"\n",
    "    Input:\n",
    "      data (data frame): a data frame containing at least the Description column.\n",
    "    \"\"\"\n",
    "    with_rooms = data.copy()\n",
    "    with_rooms['Bedrooms'] = with_rooms['Description'].str.findall(\"rooms, (\\d)\").explode().astype(int)\n",
    "    return with_rooms\n",
    "\n",
    "training_data = add_total_bedrooms(training_data)"
   ]
  },
  {
   "cell_type": "code",
   "execution_count": 23,
   "metadata": {
    "deletable": false,
    "editable": false
   },
   "outputs": [
    {
     "data": {
      "text/html": [
       "<p><strong><pre style='display: inline;'>q4ii</pre></strong> passed!</p>"
      ],
      "text/plain": [
       "q4ii results: All test cases passed!"
      ]
     },
     "execution_count": 23,
     "metadata": {},
     "output_type": "execute_result"
    }
   ],
   "source": [
    "grader.check(\"q4ii\")"
   ]
  },
  {
   "cell_type": "markdown",
   "metadata": {
    "deletable": false,
    "editable": false
   },
   "source": [
    "<!-- BEGIN QUESTION -->\n",
    "\n",
    "### Part 3\n",
    "\n",
    "Create a visualization that clearly and succintly shows if there exists an association between  `Bedrooms` and `Log Sale Price`. A good visualization should satisfy the following requirements:\n",
    "- It should avoid overplotting.\n",
    "- It should have clearly labeled axes and succinct title.\n",
    "- It should convey the strength of the correlation between the sale price and the number of rooms. \n",
    "\n",
    "**Hint**: A direct scatter plot of the sale price against the number of rooms for all of the households in our training data might risk overplotting.\n",
    "\n",
    "<!--\n",
    "BEGIN QUESTION\n",
    "name: q4iii\n",
    "points: 2\n",
    "manual: True\n",
    "format: image\n",
    "-->"
   ]
  },
  {
   "cell_type": "code",
   "execution_count": 24,
   "metadata": {
    "scrolled": false
   },
   "outputs": [
    {
     "data": {
      "text/plain": [
       "Text(0.5, 0.98, 'Relationship between bedrooms and log sale price')"
      ]
     },
     "execution_count": 24,
     "metadata": {},
     "output_type": "execute_result"
    },
    {
     "data": {
      "image/png": "[encoded data removed]",
      "text/plain": [
       "<Figure size 432x432 with 3 Axes>"
      ]
     },
     "metadata": {
      "needs_background": "light"
     },
     "output_type": "display_data"
    }
   ],
   "source": [
    "sns.jointplot(x='Bedrooms', y='Log Sale Price', data=training_data, kind='reg')\n",
    "plt.suptitle(\"Relationship between bedrooms and log sale price\")"
   ]
  },
  {
   "cell_type": "markdown",
   "metadata": {},
   "source": [
    "<!-- END QUESTION -->\n",
    "\n",
    "\n",
    "\n",
    "## Question 5"
   ]
  },
  {
   "cell_type": "markdown",
   "metadata": {},
   "source": [
    "Now, let's take a look at the relationship between neighborhood and sale prices of the houses in our data set.\n",
    "Notice that currently we don't have the actual names for the neighborhoods. Instead we will use a similar column `Neighborhood Code` (which is a numerical encoding of the actual neighborhoods by the Assessment office)."
   ]
  },
  {
   "cell_type": "markdown",
   "metadata": {
    "deletable": false,
    "editable": false
   },
   "source": [
    "### Part 1\n",
    "\n",
    "Before creating any visualization, let's quickly inspect how many different neighborhoods we are dealing with.\n",
    "\n",
    "Assign the variable `num_neighborhoods` with the total number of neighborhoods in `training_data`. \n",
    "\n",
    "<!--\n",
    "BEGIN QUESTION\n",
    "name: q5i\n",
    "points: 1\n",
    "-->"
   ]
  },
  {
   "cell_type": "code",
   "execution_count": 25,
   "metadata": {},
   "outputs": [
    {
     "data": {
      "text/plain": [
       "193"
      ]
     },
     "execution_count": 25,
     "metadata": {},
     "output_type": "execute_result"
    }
   ],
   "source": [
    "num_neighborhoods = len(training_data['Neighborhood Code'].unique())\n",
    "num_neighborhoods"
   ]
  },
  {
   "cell_type": "code",
   "execution_count": 26,
   "metadata": {
    "deletable": false,
    "editable": false
   },
   "outputs": [
    {
     "data": {
      "text/html": [
       "<p><strong><pre style='display: inline;'>q5i</pre></strong> passed!</p>"
      ],
      "text/plain": [
       "q5i results: All test cases passed!"
      ]
     },
     "execution_count": 26,
     "metadata": {},
     "output_type": "execute_result"
    }
   ],
   "source": [
    "grader.check(\"q5i\")"
   ]
  },
  {
   "cell_type": "markdown",
   "metadata": {},
   "source": [
    "### Part  2\n",
    "\n",
    "If we try directly plotting the distribution of `Log Sale Price` for all of the households in each neighborhood using the `plot_categorical` function from the next cell, we would get the following visualization.\n",
    "![overplot](images/q5p2_catplot.png)"
   ]
  },
  {
   "cell_type": "code",
   "execution_count": 27,
   "metadata": {
    "scrolled": true
   },
   "outputs": [],
   "source": [
    "def plot_categorical(neighborhoods, data, with_filter=True):\n",
    "    if not with_filter:\n",
    "        neighborhoods = data\n",
    "    fig, axs = plt.subplots(nrows=2)\n",
    "\n",
    "    sns.boxplot(\n",
    "        x='Neighborhood Code',\n",
    "        y='Log Sale Price',\n",
    "        data=neighborhoods.sort_values('Neighborhood Code'),\n",
    "        ax=axs[0],\n",
    "    )\n",
    "\n",
    "    sns.countplot(\n",
    "        x='Neighborhood Code',\n",
    "        data=neighborhoods.sort_values('Neighborhood Code'),\n",
    "        ax=axs[1],\n",
    "    )\n",
    "\n",
    "    # Draw median price\n",
    "    axs[0].axhline(\n",
    "        y=data['Log Sale Price'].median(), \n",
    "        color='red',\n",
    "        linestyle='dotted'\n",
    "    )\n",
    "\n",
    "    # Label the bars with counts\n",
    "    for patch in axs[1].patches:\n",
    "        x = patch.get_bbox().get_points()[:, 0]\n",
    "        y = patch.get_bbox().get_points()[1, 1]\n",
    "        axs[1].annotate(f'{int(y)}', (x.mean(), y), ha='center', va='bottom')\n",
    "\n",
    "    # Format x-axes\n",
    "    axs[1].set_xticklabels(axs[1].xaxis.get_majorticklabels(), rotation=90)\n",
    "    axs[0].xaxis.set_visible(False)\n",
    "\n",
    "    # Narrow the gap between the plots\n",
    "    plt.subplots_adjust(hspace=0.01)"
   ]
  },
  {
   "cell_type": "markdown",
   "metadata": {
    "deletable": false,
    "editable": false
   },
   "source": [
    "Oh no, looks like we have run into the problem of overplotting again! \n",
    "\n",
    "You might have noticed that the graph is overplotted because **there are actually quite a few neighborhoods in our dataset**! For the clarity of our visualization, we will have to zoom in again on a few of them. The reason for this is our visualization will become quite cluttered with a super dense x-axis.\n",
    "\n",
    "Assign the variable `top_20_neighborhoods` with a copy of `training_data` that contains only neighborhoods with the top 20 number of buildings. \n",
    "\n",
    "<!--\n",
    "BEGIN QUESTION\n",
    "name: q5ii\n",
    "points: 2\n",
    "-->"
   ]
  },
  {
   "cell_type": "code",
   "execution_count": 28,
   "metadata": {},
   "outputs": [],
   "source": [
    "top_20_neighborhoods = training_data.copy()\n",
    "top_20 = training_data['Neighborhood Code'].value_counts().nlargest(20).index.tolist()\n",
    "top_20_neighborhoods = training_data.loc[training_data['Neighborhood Code'].isin(top_20), :]"
   ]
  },
  {
   "cell_type": "code",
   "execution_count": 29,
   "metadata": {
    "deletable": false,
    "editable": false
   },
   "outputs": [
    {
     "data": {
      "text/html": [
       "<p><strong><pre style='display: inline;'>q5ii</pre></strong> passed!</p>"
      ],
      "text/plain": [
       "q5ii results: All test cases passed!"
      ]
     },
     "execution_count": 29,
     "metadata": {},
     "output_type": "execute_result"
    }
   ],
   "source": [
    "grader.check(\"q5ii\")"
   ]
  },
  {
   "cell_type": "markdown",
   "metadata": {},
   "source": [
    "Let's create another of the distribution of sale price within in each neighborhood again, but this time with a narrower focus!"
   ]
  },
  {
   "cell_type": "code",
   "execution_count": 30,
   "metadata": {},
   "outputs": [
    {
     "data": {
      "image/png": "[encoded data removed]",
      "text/plain": [
       "<Figure size 864x648 with 2 Axes>"
      ]
     },
     "metadata": {
      "needs_background": "light"
     },
     "output_type": "display_data"
    }
   ],
   "source": [
    "plot_categorical(neighborhoods=top_20_neighborhoods, data=training_data)"
   ]
  },
  {
   "cell_type": "markdown",
   "metadata": {
    "deletable": false,
    "editable": false
   },
   "source": [
    "<!-- BEGIN QUESTION -->\n",
    "\n",
    "### Part 3\n",
    "\n",
    "It looks a lot better now than before, right? Based on the plot above, what can be said about the relationship between the houses' `Log Sale Price` and their neighborhoods?\n",
    "\n",
    "<!--\n",
    "BEGIN QUESTION\n",
    "name: q5iii\n",
    "points: 1\n",
    "manual: True\n",
    "-->"
   ]
  },
  {
   "cell_type": "markdown",
   "metadata": {},
   "source": [
    "Log scale price is unrelated to neighborhood code."
   ]
  },
  {
   "cell_type": "markdown",
   "metadata": {
    "deletable": false,
    "editable": false
   },
   "source": [
    "<!-- END QUESTION -->\n",
    "\n",
    "### Part 4\n",
    "\n",
    "One way we can deal with the lack of data from some neighborhoods is to create a new feature that bins neighborhoods together.  Let's categorize our neighborhoods in a crude way: we'll take the top 3 neighborhoods measured by median `Log Sale Price` and identify them as \"expensive neighborhoods\"; the other neighborhoods are not marked.\n",
    "\n",
    "Write a function that returns list of the top `n` most pricy neighborhoods as measured by our choice of aggregating function.  For example, in the setup above, we would want to call `find_expensive_neighborhoods(training_data, 3, np.median)` to find the top 3 neighborhoods measured by median `Log Sale Price`.\n",
    "\n",
    "<!--\n",
    "BEGIN QUESTION\n",
    "name: q5iv\n",
    "points: 2\n",
    "-->"
   ]
  },
  {
   "cell_type": "code",
   "execution_count": 31,
   "metadata": {},
   "outputs": [
    {
     "data": {
      "text/plain": [
       "[44, 94, 93]"
      ]
     },
     "execution_count": 31,
     "metadata": {},
     "output_type": "execute_result"
    }
   ],
   "source": [
    "def find_expensive_neighborhoods(data, n=3, metric=np.median):\n",
    "    \"\"\"\n",
    "    Input:\n",
    "      data (data frame): should contain at least a string-valued Neighborhood\n",
    "        and a numeric 'Sale Price' column\n",
    "      n (int): the number of top values desired\n",
    "      metric (function): function used for aggregating the data in each neighborhood.\n",
    "        for example, np.median for median prices\n",
    "    \n",
    "    Output:\n",
    "      a list of the top n richest neighborhoods as measured by the metric function\n",
    "    \"\"\"\n",
    "    neighborhoods = data.groupby('Neighborhood Code').agg({'Log Sale Price': metric}).sort_values('Log Sale Price', ascending=False).head(n).index.tolist()\n",
    "    \n",
    "    # This makes sure the final list contains the generic int type used in Python3, not specific ones used in numpy.\n",
    "    return [int(code) for code in neighborhoods]\n",
    "\n",
    "expensive_neighborhoods = find_expensive_neighborhoods(training_data, 3, np.median)\n",
    "expensive_neighborhoods"
   ]
  },
  {
   "cell_type": "code",
   "execution_count": 32,
   "metadata": {
    "deletable": false,
    "editable": false
   },
   "outputs": [
    {
     "data": {
      "text/html": [
       "<p><strong><pre style='display: inline;'>q5iv</pre></strong> passed!</p>"
      ],
      "text/plain": [
       "q5iv results: All test cases passed!"
      ]
     },
     "execution_count": 32,
     "metadata": {},
     "output_type": "execute_result"
    }
   ],
   "source": [
    "grader.check(\"q5iv\")"
   ]
  },
  {
   "cell_type": "markdown",
   "metadata": {
    "deletable": false,
    "editable": false
   },
   "source": [
    "### Part 5\n",
    "We now have a list of neighborhoods we've deemed as richer than others.  Let's use that information to make a new variable `in_expensive_neighborhood`.  Write a function `add_expensive_neighborhood` that adds an indicator variable which takes on the value 1 if the house is part of `expensive_neighborhoods` and the value 0 otherwise.\n",
    "\n",
    "**Hint:** [`pd.Series.astype`](https://pandas.pydata.org/pandas-docs/version/0.23.4/generated/pandas.Series.astype.html) may be useful for converting True/False values to integers.\n",
    "\n",
    "<!--\n",
    "BEGIN QUESTION\n",
    "name: q5v\n",
    "points: 1\n",
    "-->"
   ]
  },
  {
   "cell_type": "code",
   "execution_count": 33,
   "metadata": {},
   "outputs": [],
   "source": [
    "def add_in_expensive_neighborhood(data, neighborhoods):\n",
    "    \"\"\"\n",
    "    Input:\n",
    "      data (data frame): a data frame containing a 'Neighborhood Code' column with values\n",
    "        found in the codebook\n",
    "      neighborhoods (list of strings): strings should be the names of neighborhoods\n",
    "        pre-identified as rich\n",
    "    Output:\n",
    "      data frame identical to the input with the addition of a binary\n",
    "      in_rich_neighborhood column\n",
    "    \"\"\"\n",
    "    data['in_expensive_neighborhood'] = data['Neighborhood Code'].isin(neighborhoods).astype(int)\n",
    "    return data\n",
    "\n",
    "expensive_neighborhoods = find_expensive_neighborhoods(training_data, 3, np.median)\n",
    "training_data = add_in_expensive_neighborhood(training_data, expensive_neighborhoods)"
   ]
  },
  {
   "cell_type": "code",
   "execution_count": 34,
   "metadata": {
    "deletable": false,
    "editable": false
   },
   "outputs": [
    {
     "data": {
      "text/html": [
       "<p><strong><pre style='display: inline;'>q5v</pre></strong> passed!</p>"
      ],
      "text/plain": [
       "q5v results: All test cases passed!"
      ]
     },
     "execution_count": 34,
     "metadata": {},
     "output_type": "execute_result"
    }
   ],
   "source": [
    "grader.check(\"q5v\")"
   ]
  },
  {
   "cell_type": "markdown",
   "metadata": {},
   "source": [
    "## Question 6"
   ]
  },
  {
   "cell_type": "markdown",
   "metadata": {},
   "source": [
    "In the following question, we will take a closer look at the `Roof Material` feature of the dataset and examine how we can incorporate categorical features into our linear model."
   ]
  },
  {
   "cell_type": "markdown",
   "metadata": {
    "deletable": false,
    "editable": false
   },
   "source": [
    "### Part 1\n",
    "\n",
    "If we look at the codebook carefully, we can see that the Assessor's Office uses the following mapping for the numerical values in the `Roof Material` column.\n",
    "```\n",
    "Central Heating (Nominal): \n",
    "\n",
    "       1\tShingle/Asphalt\n",
    "       2\tTar&Gravel\n",
    "       3\tSlate\n",
    "       4\tShake\n",
    "       5    Tile\n",
    "       6    Other\n",
    "```\n",
    "\n",
    "Write a function `substitute_roof_material` that replaces each numerical value in `Roof Material` with their corresponding roof material.\n",
    "\n",
    "**Hint**: the [DataFrame.replace](https://pandas.pydata.org/pandas-docs/stable/generated/pandas.DataFrame.replace.html) method may be useful here.\n",
    "\n",
    "<!--\n",
    "BEGIN QUESTION\n",
    "name: q6i\n",
    "points: 1\n",
    "-->\n"
   ]
  },
  {
   "cell_type": "code",
   "execution_count": 35,
   "metadata": {},
   "outputs": [],
   "source": [
    "def substitute_roof_material(data):\n",
    "    \"\"\"\n",
    "    Input:\n",
    "      data (data frame): a data frame containing a 'Roof Material' column.  Its values\n",
    "                         should be limited to those found in the codebook\n",
    "    Output:\n",
    "      data frame identical to the input except with a refactored 'Roof Material' column\n",
    "    \"\"\"\n",
    "    data['Roof Material'].astype(int).replace([1,2,3,4,5,6],['Shingle/Asphalt','Tar&Gravel','Slate','Shake','Tile','Other'])\n",
    "    return data\n",
    "    \n",
    "training_data = substitute_roof_material(training_data)"
   ]
  },
  {
   "cell_type": "code",
   "execution_count": 36,
   "metadata": {},
   "outputs": [],
   "source": [
    "training_data['Roof Material'] = training_data['Roof Material'].astype(int).replace([1,2,3,4,5,6],['Shingle/Asphalt','Tar&Gravel','Slate','Shake','Tile','Other'])"
   ]
  },
  {
   "cell_type": "code",
   "execution_count": 37,
   "metadata": {
    "deletable": false,
    "editable": false
   },
   "outputs": [
    {
     "data": {
      "text/html": [
       "<p><strong><pre style='display: inline;'>q6i</pre></strong> passed!</p>"
      ],
      "text/plain": [
       "q6i results: All test cases passed!"
      ]
     },
     "execution_count": 37,
     "metadata": {},
     "output_type": "execute_result"
    }
   ],
   "source": [
    "grader.check(\"q6i\")"
   ]
  },
  {
   "cell_type": "markdown",
   "metadata": {},
   "source": [
    "### Part 2"
   ]
  },
  {
   "cell_type": "markdown",
   "metadata": {
    "deletable": false,
    "editable": false
   },
   "source": [
    "#### An Important Note on One Hot Encoding <a name=\"important_note\"></a>\n",
    "\n",
    "Unfortunately, simply fixing these missing values isn't sufficient for using `Roof Material` in our model.  Since `Roof Material` is a categorical variable, we will have to one-hot-encode the data.  Notice in the example code below that we have to pre-specify the categories.  Why? Imagine what would happen if we automatically generated the categories only from the training data.  What would happen if the testing data contained a category not found in the training set?  For more information on categorical data in pandas, refer to this [link](https://pandas-docs.github.io/pandas-docs-travis/categorical.html).\n",
    "\n",
    "Complete the following function `ohe_roof_material` that returns a dataframe with the new column one-hot-encoded on the roof material of the household. The new column should has the form `rfm_MATERIAL`.\n",
    "\n",
    "**Note**: You should **avoid using `pd.get_dummies`** in your solution as it will remove your original column and is therefore not as reusable as your construct your data preprocessing pipeline. Instead, you can one-hot-encode one column into multiple columns **using Scikit-learn's [One Hot Encoder](https://scikit-learn.org/stable/modules/generated/sklearn.preprocessing.OneHotEncoder.html)**.\n",
    "\n",
    "<!--\n",
    "BEGIN QUESTION\n",
    "name: q6ii\n",
    "points: 2\n",
    "-->"
   ]
  },
  {
   "cell_type": "code",
   "execution_count": 38,
   "metadata": {},
   "outputs": [
    {
     "data": {
      "text/html": [
       "<div>\n",
       "<style scoped>\n",
       "    .dataframe tbody tr th:only-of-type {\n",
       "        vertical-align: middle;\n",
       "    }\n",
       "\n",
       "    .dataframe tbody tr th {\n",
       "        vertical-align: top;\n",
       "    }\n",
       "\n",
       "    .dataframe thead th {\n",
       "        text-align: right;\n",
       "    }\n",
       "</style>\n",
       "<table border=\"1\" class=\"dataframe\">\n",
       "  <thead>\n",
       "    <tr style=\"text-align: right;\">\n",
       "      <th></th>\n",
       "      <th>x0_Other</th>\n",
       "      <th>x0_Shake</th>\n",
       "      <th>x0_Shingle/Asphalt</th>\n",
       "      <th>x0_Slate</th>\n",
       "      <th>x0_Tar&amp;Gravel</th>\n",
       "      <th>x0_Tile</th>\n",
       "    </tr>\n",
       "  </thead>\n",
       "  <tbody>\n",
       "    <tr>\n",
       "      <th>1</th>\n",
       "      <td>0.0</td>\n",
       "      <td>0.0</td>\n",
       "      <td>1.0</td>\n",
       "      <td>0.0</td>\n",
       "      <td>0.0</td>\n",
       "      <td>0.0</td>\n",
       "    </tr>\n",
       "    <tr>\n",
       "      <th>2</th>\n",
       "      <td>0.0</td>\n",
       "      <td>0.0</td>\n",
       "      <td>1.0</td>\n",
       "      <td>0.0</td>\n",
       "      <td>0.0</td>\n",
       "      <td>0.0</td>\n",
       "    </tr>\n",
       "    <tr>\n",
       "      <th>3</th>\n",
       "      <td>0.0</td>\n",
       "      <td>0.0</td>\n",
       "      <td>1.0</td>\n",
       "      <td>0.0</td>\n",
       "      <td>0.0</td>\n",
       "      <td>0.0</td>\n",
       "    </tr>\n",
       "    <tr>\n",
       "      <th>4</th>\n",
       "      <td>0.0</td>\n",
       "      <td>0.0</td>\n",
       "      <td>1.0</td>\n",
       "      <td>0.0</td>\n",
       "      <td>0.0</td>\n",
       "      <td>0.0</td>\n",
       "    </tr>\n",
       "    <tr>\n",
       "      <th>6</th>\n",
       "      <td>0.0</td>\n",
       "      <td>0.0</td>\n",
       "      <td>1.0</td>\n",
       "      <td>0.0</td>\n",
       "      <td>0.0</td>\n",
       "      <td>0.0</td>\n",
       "    </tr>\n",
       "    <tr>\n",
       "      <th>7</th>\n",
       "      <td>0.0</td>\n",
       "      <td>0.0</td>\n",
       "      <td>1.0</td>\n",
       "      <td>0.0</td>\n",
       "      <td>0.0</td>\n",
       "      <td>0.0</td>\n",
       "    </tr>\n",
       "    <tr>\n",
       "      <th>8</th>\n",
       "      <td>0.0</td>\n",
       "      <td>0.0</td>\n",
       "      <td>0.0</td>\n",
       "      <td>0.0</td>\n",
       "      <td>1.0</td>\n",
       "      <td>0.0</td>\n",
       "    </tr>\n",
       "    <tr>\n",
       "      <th>9</th>\n",
       "      <td>0.0</td>\n",
       "      <td>0.0</td>\n",
       "      <td>1.0</td>\n",
       "      <td>0.0</td>\n",
       "      <td>0.0</td>\n",
       "      <td>0.0</td>\n",
       "    </tr>\n",
       "    <tr>\n",
       "      <th>10</th>\n",
       "      <td>0.0</td>\n",
       "      <td>0.0</td>\n",
       "      <td>1.0</td>\n",
       "      <td>0.0</td>\n",
       "      <td>0.0</td>\n",
       "      <td>0.0</td>\n",
       "    </tr>\n",
       "    <tr>\n",
       "      <th>11</th>\n",
       "      <td>0.0</td>\n",
       "      <td>0.0</td>\n",
       "      <td>1.0</td>\n",
       "      <td>0.0</td>\n",
       "      <td>0.0</td>\n",
       "      <td>0.0</td>\n",
       "    </tr>\n",
       "  </tbody>\n",
       "</table>\n",
       "</div>"
      ],
      "text/plain": [
       "    x0_Other  x0_Shake  x0_Shingle/Asphalt  x0_Slate  x0_Tar&Gravel  x0_Tile\n",
       "1        0.0       0.0                 1.0       0.0            0.0      0.0\n",
       "2        0.0       0.0                 1.0       0.0            0.0      0.0\n",
       "3        0.0       0.0                 1.0       0.0            0.0      0.0\n",
       "4        0.0       0.0                 1.0       0.0            0.0      0.0\n",
       "6        0.0       0.0                 1.0       0.0            0.0      0.0\n",
       "7        0.0       0.0                 1.0       0.0            0.0      0.0\n",
       "8        0.0       0.0                 0.0       0.0            1.0      0.0\n",
       "9        0.0       0.0                 1.0       0.0            0.0      0.0\n",
       "10       0.0       0.0                 1.0       0.0            0.0      0.0\n",
       "11       0.0       0.0                 1.0       0.0            0.0      0.0"
      ]
     },
     "execution_count": 38,
     "metadata": {},
     "output_type": "execute_result"
    }
   ],
   "source": [
    "from sklearn.preprocessing import OneHotEncoder\n",
    "oh_enc = OneHotEncoder()\n",
    "\n",
    "def ohe_roof_material(data):\n",
    "    \"\"\"\n",
    "    One-hot-encodes roof material.  New columns are of the form 0x_QUALITY.\n",
    "    \"\"\"\n",
    "    oh_enc.fit(data[['Roof Material']])\n",
    "    dummies = pd.DataFrame(oh_enc.transform(data[['Roof Material']]).todense(), \n",
    "                           columns=oh_enc.get_feature_names(),\n",
    "                           index = data.index)\n",
    "    return data.join(dummies)\n",
    "\n",
    "training_data = ohe_roof_material(training_data)\n",
    "training_data.filter(regex='^x0').head(10)"
   ]
  },
  {
   "cell_type": "code",
   "execution_count": 39,
   "metadata": {
    "deletable": false,
    "editable": false
   },
   "outputs": [
    {
     "data": {
      "text/html": [
       "<p><strong><pre style='display: inline;'>q6ii</pre></strong> passed!</p>"
      ],
      "text/plain": [
       "q6ii results: All test cases passed!"
      ]
     },
     "execution_count": 39,
     "metadata": {},
     "output_type": "execute_result"
    }
   ],
   "source": [
    "grader.check(\"q6ii\")"
   ]
  },
  {
   "cell_type": "markdown",
   "metadata": {
    "nbgrader": {
     "grade": false,
     "grade_id": "cell-5ffdfab3f8801658",
     "locked": true,
     "schema_version": 1,
     "solution": false
    }
   },
   "source": [
    "# Part 3: Modeling\n",
    "\n",
    "We've reached the point where we can specify a model.\n",
    "\n",
    "Before moving forward, let's actually make sure out dataset is properly prepared. Please make sure that the assertion statements in the following cell pass."
   ]
  },
  {
   "cell_type": "code",
   "execution_count": 40,
   "metadata": {},
   "outputs": [],
   "source": [
    "assert training_data.shape == (168931, 72)"
   ]
  },
  {
   "cell_type": "markdown",
   "metadata": {},
   "source": [
    "In addition, let's reassign `training_data` to a new variable `full_data`."
   ]
  },
  {
   "cell_type": "code",
   "execution_count": 41,
   "metadata": {},
   "outputs": [],
   "source": [
    "full_data = training_data"
   ]
  },
  {
   "cell_type": "markdown",
   "metadata": {
    "deletable": false,
    "editable": false
   },
   "source": [
    "## Question 7 <a name=\"q6\"></a>\n",
    "\n",
    "### Part 1\n",
    "\n",
    "Now, let's split the data set into a training set and test set. We will use the training set to fit our model's parameters, and we will use the test set to estimate how well our model will perform on unseen data drawn from the same distribution. If we used all the data to fit our model, we would not have a way to estimate model performance on unseen data.\n",
    "\n",
    "\"Don't we already have a test set in `cook_county_test.csv`?\" you might wonder. The sale prices for `cook_county_test.csv` aren't provided, so we're constructing our own test set for which we know the outputs.\n",
    "\n",
    "In the cell below, complete the function `train_test_split` that splits `data` into two smaller DataFrames named `train` and `test`. Let `train` contain 80% of the data, and let `test` contain the remaining 20% of the data. \n",
    "\n",
    "To do this, first create two NumPy arrays named `train_indices` and `test_indices`. `train_indices` should contain a *random* 80% of the indices in `full_data`, and `test_indices` should contain the remaining 20% of the indices. Then, use these arrays to index into `full_data` to create your final `train` and `test` DataFrames.\n",
    "\n",
    "*The provided tests check that you not only answered correctly, but ended up with the exact same train/test split as our reference implementation. Later testing is easier this way.*\n",
    "\n",
    "**Note**: You should not be importing any additional libraries for this question. \n",
    "\n",
    "<!--\n",
    "BEGIN QUESTION\n",
    "name: q7i\n",
    "points: 2\n",
    "-->"
   ]
  },
  {
   "cell_type": "code",
   "execution_count": 42,
   "metadata": {},
   "outputs": [],
   "source": [
    "# This makes the train-test split in this section reproducible across different runs \n",
    "# of the notebook. You do not need this line to run train_test_split in general\n",
    "\n",
    "# DO NOT CHANGE THIS LINE\n",
    "np.random.seed(1337)\n",
    "# DO NOT CHANGE THIS LINE\n",
    "\n",
    "def train_test_split(data):\n",
    "    data_len = data.shape[0]\n",
    "    shuffled_indices = np.random.permutation(data_len)\n",
    "\n",
    "    shuffled_indices[0:int(0.8*data_len)] \n",
    "    shuffled_indices[int(0.8*data_len)::] \n",
    "\n",
    "    train = data.iloc[shuffled_indices[0:int(0.8*data_len)]]\n",
    "    test =  data.iloc[shuffled_indices[int(0.8*data_len)::]]\n",
    "\n",
    "    return train, test\n",
    "    \n",
    "train, test = train_test_split(full_data)"
   ]
  },
  {
   "cell_type": "code",
   "execution_count": 43,
   "metadata": {
    "deletable": false,
    "editable": false
   },
   "outputs": [
    {
     "data": {
      "text/html": [
       "<p><strong><pre style='display: inline;'>q7i</pre></strong> passed!</p>"
      ],
      "text/plain": [
       "q7i results: All test cases passed!"
      ]
     },
     "execution_count": 43,
     "metadata": {},
     "output_type": "execute_result"
    }
   ],
   "source": [
    "grader.check(\"q7i\")"
   ]
  },
  {
   "cell_type": "markdown",
   "metadata": {},
   "source": [
    "It's finally time to fit our updated linear regression model using the ordinary least squares estimator! We will start you off with something simple by using only 2 features: the **number of bedrooms** in the household and the **log-transformed total area covered by the building** (in square feet). \n",
    "\n",
    "Consider the following expression for our 1st linear model that contains one of the features:\n",
    "\n",
    "$$\n",
    "\\text{Log Sale Price} = \\theta_0 + \\theta_1 \\cdot (\\text{Bedrooms})\n",
    "$$\n",
    "\n",
    "In parallel, we will also consider a 2nd model that contains both features:\n",
    "\n",
    "$$\n",
    "\\text{Log Sale Price} = \\theta_0 + \\theta_1 \\cdot (\\text{Bedrooms}) + \\theta_2 \\cdot (\\text{Log Building Square Feet})\n",
    "$$"
   ]
  },
  {
   "cell_type": "markdown",
   "metadata": {
    "deletable": false,
    "editable": false
   },
   "source": [
    "<!-- BEGIN QUESTION -->\n",
    "\n",
    "### Part 2\n",
    "\n",
    "**Without running any calculation or code**, complete the following statement by filling in the blank with one of the  comparators below:\n",
    "\n",
    "$$\\ge$$\n",
    "$$\\le$$\n",
    "$$=$$\n",
    "\n",
    "Suppose we quantify the loss on our linear models using MSE (Mean Squared Error). Consider the training loss of the 1st model and the training loss of the 2nd model. We are guaranteed that:\n",
    "\n",
    "$$\n",
    "\\text{Training Loss of the 1st Model}  \\_\\_\\_\\_\\_  \\text{Training Loss of the 2nd Model}\n",
    "$$\n",
    "\n",
    "<!--\n",
    "BEGIN QUESTION\n",
    "name: q7ii\n",
    "points: 1\n",
    "manual: True\n",
    "-->"
   ]
  },
  {
   "cell_type": "markdown",
   "metadata": {},
   "source": [
    ">="
   ]
  },
  {
   "cell_type": "markdown",
   "metadata": {
    "nbgrader": {
     "grade": false,
     "grade_id": "cell-acdc861fd11912e9",
     "locked": true,
     "schema_version": 1,
     "solution": false
    }
   },
   "source": [
    "<!-- END QUESTION -->\n",
    "\n",
    "\n",
    "\n",
    "Throughout this assignment, you should notice that your data flows through a single processing pipeline several times.  From a software engineering perspective, it's best to define functions/methods that can apply the pipeline to any dataset.  We will now encapsulate our entire pipeline into a single function `process_data_gm`. \n",
    "\n",
    "Take a look at the following function `process_data_gm` that takes in the dataframe `data`, a list `pipeline_functions` containing 3-element tuples `(function, arguments, keyword_arguments)` that will be called on `data` in the pipeline, and the label `prediction_col` that represents the column of our target variable (`Sale Price` in this case). It returns two dataframes: `X`, which is our design matrix, and `y` which is the vector containing the observed data.\n",
    "\n",
    "To see more of how this function can be used, please see the example below the next cell.\n",
    "\n",
    "Take a look at [pd.DataFrame.pipe](https://pandas.pydata.org/pandas-docs/stable/reference/api/pandas.DataFrame.pipe.html); you can use this function with each of the tuples passed in through `pipeline_functions`.\n",
    "\n",
    "**Note: As there are many ways to encapsulate your workflow in a way that works best for you, you are not required to follow the setup below as you prepare your own data.**"
   ]
  },
  {
   "cell_type": "code",
   "execution_count": 44,
   "metadata": {
    "nbgrader": {
     "grade": false,
     "grade_id": "cell-2fe1d82b2c19d1fa",
     "locked": true,
     "schema_version": 1,
     "solution": false
    }
   },
   "outputs": [],
   "source": [
    "def process_data_gm(data, pipeline_functions, prediction_col):\n",
    "    \"\"\"Process the data for a guided model.\"\"\"\n",
    "    for function, arguments, keyword_arguments in pipeline_functions:\n",
    "        if keyword_arguments and (not arguments):\n",
    "            data = data.pipe(function, **keyword_arguments)\n",
    "        elif (not keyword_arguments) and (arguments):\n",
    "            data = data.pipe(function, *arguments)\n",
    "        else:\n",
    "            data = data.pipe(function)\n",
    "    X = data.drop(columns=[prediction_col]).to_numpy()\n",
    "    y = data.loc[:, prediction_col].to_numpy()\n",
    "    return X, y\n",
    "\n",
    "def select_columns(data, *columns):\n",
    "    \"\"\"Select only columns passed as arguments.\"\"\"\n",
    "    return data.loc[:, columns]"
   ]
  },
  {
   "cell_type": "markdown",
   "metadata": {},
   "source": [
    "Let's run this cell again to make sure the train-test split is reproducible across different runs."
   ]
  },
  {
   "cell_type": "code",
   "execution_count": 45,
   "metadata": {},
   "outputs": [],
   "source": [
    "np.random.seed(1337)"
   ]
  },
  {
   "cell_type": "markdown",
   "metadata": {
    "deletable": false,
    "editable": false
   },
   "source": [
    "### Part 3\n",
    "\n",
    "It is time to prepare the training and test data for the 2 models we proposed above. Use the following 3 cells to reload a fresh dataset from scratch and run them through the following preprocessing steps for each model:\n",
    "\n",
    "- Perform a train-test split on the original dataset. Let 80% of the set be training data and 20% of the set be test data.\n",
    "- For both the training and testing set,\n",
    "    1. Remove outliers in `Sale Price` by so that we are considering households with a price that is strictly greater than 499 dollars (i.e., greater than or equal to 500 dollars). \n",
    "    2. Apply log transformations to `Sale Price` and the `Building Squre Feet` columns to create 2 new columns `Log Sale Price` and `Log Building Square Feet`.\n",
    "    3. Extract the total number of bathrooms into a new column `Bedrooms` from the `Description` column.\n",
    "    4. Select the columns `Log Sale Price` and `Bedrooms` (and `Log Building Square Feet` as well if this is the 2nd model).\n",
    "    5. Return the design matrix $X$ and the observed vector $y$. **Your design matrix and observed vector should either be numpy arrays or pandas dataframes**.\n",
    "    \n",
    "\n",
    "Assign the final training data and testing data for both models to the following set of variables:\n",
    "\n",
    "- 1st Model: `X_train_m1`, `y_train_m1`, `X_test_m1`, `y_test_m1`\n",
    "- 2nd Model: `X_train_m2`, `y_train_m2`, `X_test_m2`, `y_test_m2`\n",
    "   \n",
    "**Hint**: You have already defined functions in parts of the assignment that can help you accomplish these steps.\n",
    "\n",
    "**Hint**: If you are not following the example approach shown above in `process_data_gm`, it could be helpful to define your function that encapsulates all of the preprocessing you need to call on the data.\n",
    "\n",
    "**Hint**: Try to start by preparing the data for the first model. The steps should be very similar for the second model.\n",
    "\n",
    "**Note**: Do not change the line `np.random.seed(1337)` as it ensures we are partitioning the dataset exactly the same way for both models (otherwise their performance isn't directly comparable).\n",
    "\n",
    "<!--\n",
    "BEGIN QUESTION\n",
    "name: q7iii\n",
    "points: 3\n",
    "-->"
   ]
  },
  {
   "cell_type": "code",
   "execution_count": 77,
   "metadata": {},
   "outputs": [],
   "source": [
    "# DO NOT CHANGE THIS LINE\n",
    "np.random.seed(1337)\n",
    "# DO NOT CHANGE THIS LINE\n",
    "\n",
    "# Reload and preprocess the data for 1st model\n",
    "full_data = pd.read_csv(\"cook_county_train.csv\")\n",
    "full_data = full_data[full_data['Sale Price'] >= 500]\n",
    "full_data['Log Sale Price'] = np.log(full_data['Sale Price'])\n",
    "full_data['Log Building Square Feet'] = np.log(full_data['Building Square Feet'])\n",
    "full_data = add_total_bedrooms(full_data)\n",
    "\n",
    "# Reload and preprocess the data for the 1st model\n",
    "train, test = train_test_split(full_data)\n",
    "X_train_m1 = train[['Bedrooms']]\n",
    "y_train_m1 = train[['Log Sale Price']]\n",
    "X_test_m1 = test[['Bedrooms']]\n",
    "y_test_m1 = test[['Log Sale Price']]\n",
    "\n",
    "# Reload and preprocess the data for 2nd model\n",
    "X_train_m2 = train[['Bedrooms', 'Log Building Square Feet']]\n",
    "y_train_m2 = train[['Log Sale Price']]\n",
    "X_test_m2 = test[['Bedrooms', 'Log Building Square Feet']]\n",
    "y_test_m2 = test[['Log Sale Price']]\n"
   ]
  },
  {
   "cell_type": "code",
   "execution_count": 78,
   "metadata": {
    "deletable": false,
    "editable": false
   },
   "outputs": [
    {
     "data": {
      "text/html": [
       "<p><strong><pre style='display: inline;'>q7iii</pre></strong> passed!</p>"
      ],
      "text/plain": [
       "q7iii results: All test cases passed!"
      ]
     },
     "execution_count": 78,
     "metadata": {},
     "output_type": "execute_result"
    }
   ],
   "source": [
    "grader.check(\"q7iii\")"
   ]
  },
  {
   "cell_type": "markdown",
   "metadata": {},
   "source": [
    "### Part 4\n",
    "\n",
    "Finally, let's do some regression!"
   ]
  },
  {
   "cell_type": "markdown",
   "metadata": {},
   "source": [
    "We first initialize a [`sklearn.linear_model.LinearRegression`](https://scikit-learn.org/stable/modules/generated/sklearn.linear_model.LinearRegression.html) object for both of our models. We set the `fit_intercept = True` to ensure that the linear model has a non-zero intercept."
   ]
  },
  {
   "cell_type": "code",
   "execution_count": 79,
   "metadata": {},
   "outputs": [],
   "source": [
    "from sklearn import linear_model as lm\n",
    "\n",
    "linear_model_m1 = lm.LinearRegression(fit_intercept=True)\n",
    "linear_model_m2 = lm.LinearRegression(fit_intercept=True)"
   ]
  },
  {
   "cell_type": "markdown",
   "metadata": {
    "deletable": false,
    "editable": false
   },
   "source": [
    "Now it's time to fit our updated linear regression model. Use the cell below to estimate both models, and then use it to compute the fitted value of `Sale Price` over the training data and the predicted the values of `Sale Price` using the testing data respectively. \n",
    "\n",
    "Assign the predicted values from both of your models on the training and testing set to the following variables:\n",
    "\n",
    "- 1st Model: prediction on training set: `y_fitted_m1`, prediction on testing set: `y_predicted_m1`\n",
    "- 2nd Model: prediction on training set: `y_fitted_m2`, prediction on testing set: `y_predicted_m2`\n",
    "\n",
    "**Note**: To make sure you understand how to find the predicted value for both the training and testing data set, there won't be any hidden test for this part.\n",
    "<!--\n",
    "BEGIN QUESTION\n",
    "name: q7iv\n",
    "points: 1\n",
    "-->"
   ]
  },
  {
   "cell_type": "code",
   "execution_count": 80,
   "metadata": {},
   "outputs": [],
   "source": [
    "# Fit the 1st model\n",
    "# Compute the fitted and predicted values of Sale Price for 1st model\n",
    "linear_model_m1.fit(X_train_m1, y_train_m1)\n",
    "y_fitted_m1 = linear_model_m1.predict(X_train_m1)\n",
    "y_predicted_m1 = linear_model_m1.predict(X_test_m1)\n",
    "\n",
    "# Fit the 2nd model\n",
    "# Compute the fitted and predicted values of Sale Price for 1st model\n",
    "linear_model_m1.fit(X_train_m2, y_train_m2)\n",
    "y_fitted_m2 = linear_model_m1.predict(X_train_m2)\n",
    "y_predicted_m2 = linear_model_m1.predict(X_test_m2)"
   ]
  },
  {
   "cell_type": "code",
   "execution_count": 84,
   "metadata": {},
   "outputs": [
    {
     "data": {
      "text/plain": [
       "[15.036096492964973, 15.036096492964973, 15.604485054944398, 14.85250993227147]"
      ]
     },
     "execution_count": 84,
     "metadata": {},
     "output_type": "execute_result"
    }
   ],
   "source": [
    "[y_fitted_m1.max(), y_predicted_m1.max(), y_fitted_m2.max(), y_predicted_m2.max()]\n"
   ]
  },
  {
   "cell_type": "code",
   "execution_count": 82,
   "metadata": {
    "deletable": false,
    "editable": false
   },
   "outputs": [
    {
     "data": {
      "text/html": [
       "<p><strong style='color: red;'><pre style='display: inline;'>q7iv</pre> results:</strong></p><p><strong><pre style='display: inline;'>q7iv - 1</pre> result:</strong></p><pre>    Trying:\n",
       "        np.isclose(y_fitted_m1.max(), 17.528601849438104, atol=0.0001) == True\n",
       "    Expecting:\n",
       "        True\n",
       "    **********************************************************************\n",
       "    Line 1, in q7iv 0\n",
       "    Failed example:\n",
       "        np.isclose(y_fitted_m1.max(), 17.528601849438104, atol=0.0001) == True\n",
       "    Expected:\n",
       "        True\n",
       "    Got:\n",
       "        False\n",
       "</pre><p><strong><pre style='display: inline;'>q7iv - 2</pre> result:</strong></p><pre>    Trying:\n",
       "        np.isclose(y_fitted_m2.max(), 15.614096224439168, atol=0.0001) == True\n",
       "    Expecting:\n",
       "        True\n",
       "    **********************************************************************\n",
       "    Line 1, in q7iv 1\n",
       "    Failed example:\n",
       "        np.isclose(y_fitted_m2.max(), 15.614096224439168, atol=0.0001) == True\n",
       "    Expected:\n",
       "        True\n",
       "    Got:\n",
       "        False\n",
       "</pre><p><strong><pre style='display: inline;'>q7iv - 3</pre> result:</strong></p><pre>    Trying:\n",
       "        np.isclose(y_predicted_m1.max(), 15.540922864181525, atol=0.0001) == True\n",
       "    Expecting:\n",
       "        True\n",
       "    **********************************************************************\n",
       "    Line 1, in q7iv 2\n",
       "    Failed example:\n",
       "        np.isclose(y_predicted_m1.max(), 15.540922864181525, atol=0.0001) == True\n",
       "    Expected:\n",
       "        True\n",
       "    Got:\n",
       "        False\n",
       "</pre><p><strong><pre style='display: inline;'>q7iv - 4</pre> result:</strong></p><pre>    Trying:\n",
       "        np.isclose(y_predicted_m2.max(), 15.02563963305767, atol=0.0001) == True\n",
       "    Expecting:\n",
       "        True\n",
       "    **********************************************************************\n",
       "    Line 1, in q7iv 3\n",
       "    Failed example:\n",
       "        np.isclose(y_predicted_m2.max(), 15.02563963305767, atol=0.0001) == True\n",
       "    Expected:\n",
       "        True\n",
       "    Got:\n",
       "        False\n",
       "</pre>"
      ],
      "text/plain": [
       "q7iv results:\n",
       "    q7iv - 1 result:\n",
       "        Trying:\n",
       "            np.isclose(y_fitted_m1.max(), 17.528601849438104, atol=0.0001) == True\n",
       "        Expecting:\n",
       "            True\n",
       "        **********************************************************************\n",
       "        Line 1, in q7iv 0\n",
       "        Failed example:\n",
       "            np.isclose(y_fitted_m1.max(), 17.528601849438104, atol=0.0001) == True\n",
       "        Expected:\n",
       "            True\n",
       "        Got:\n",
       "            False\n",
       "\n",
       "    q7iv - 2 result:\n",
       "        Trying:\n",
       "            np.isclose(y_fitted_m2.max(), 15.614096224439168, atol=0.0001) == True\n",
       "        Expecting:\n",
       "            True\n",
       "        **********************************************************************\n",
       "        Line 1, in q7iv 1\n",
       "        Failed example:\n",
       "            np.isclose(y_fitted_m2.max(), 15.614096224439168, atol=0.0001) == True\n",
       "        Expected:\n",
       "            True\n",
       "        Got:\n",
       "            False\n",
       "\n",
       "    q7iv - 3 result:\n",
       "        Trying:\n",
       "            np.isclose(y_predicted_m1.max(), 15.540922864181525, atol=0.0001) == True\n",
       "        Expecting:\n",
       "            True\n",
       "        **********************************************************************\n",
       "        Line 1, in q7iv 2\n",
       "        Failed example:\n",
       "            np.isclose(y_predicted_m1.max(), 15.540922864181525, atol=0.0001) == True\n",
       "        Expected:\n",
       "            True\n",
       "        Got:\n",
       "            False\n",
       "\n",
       "    q7iv - 4 result:\n",
       "        Trying:\n",
       "            np.isclose(y_predicted_m2.max(), 15.02563963305767, atol=0.0001) == True\n",
       "        Expecting:\n",
       "            True\n",
       "        **********************************************************************\n",
       "        Line 1, in q7iv 3\n",
       "        Failed example:\n",
       "            np.isclose(y_predicted_m2.max(), 15.02563963305767, atol=0.0001) == True\n",
       "        Expected:\n",
       "            True\n",
       "        Got:\n",
       "            False"
      ]
     },
     "execution_count": 82,
     "metadata": {},
     "output_type": "execute_result"
    }
   ],
   "source": [
    "grader.check(\"q7iv\")"
   ]
  },
  {
   "cell_type": "markdown",
   "metadata": {},
   "source": [
    "### Part 5\n",
    "\n",
    "Let's compare the performance of our two regression models using the Root Mean Squared Error function that we created in Homework 5.\n",
    "\n",
    "$$RMSE = \\sqrt{\\dfrac{\\sum_{\\text{houses in test set}}(\\text{actual price for house} - \\text{predicted price for house})^2}{\\text{number of of houses}}}$$\n",
    "\n",
    "The function is provided below."
   ]
  },
  {
   "cell_type": "code",
   "execution_count": 52,
   "metadata": {},
   "outputs": [],
   "source": [
    "def rmse(predicted, actual):\n",
    "    \"\"\"\n",
    "    Calculates RMSE from actual and predicted values\n",
    "    Input:\n",
    "      predicted (1D array): vector of predicted/fitted values\n",
    "      actual (1D array): vector of actual values\n",
    "    Output:\n",
    "      a float, the root-mean square error\n",
    "    \"\"\"\n",
    "    return np.sqrt(np.mean((actual - predicted)**2))"
   ]
  },
  {
   "cell_type": "markdown",
   "metadata": {
    "deletable": false,
    "editable": false
   },
   "source": [
    "Now use your `rmse` function to calculate the training error and test error for both models in the cell below.\n",
    "\n",
    "Assign the error from both of your models to the following variables:\n",
    "\n",
    "- 1st model: `training_error_m1`, `test_error_m1`\n",
    "- 2nd model: `training_error_m2`, `test_error_m2`\n",
    "\n",
    "Since the target variable we are working with is log-transformed, it can also be beneficial to transform it back to its original form so we will have more context on how our model is performing when compared to actual housing prices.\n",
    "\n",
    "Assign the error on the \"de-log-transformed\" sale price from both of your models to the following variables:\n",
    "\n",
    "- 1st model: `training_error_m1_delog`, `test_error_m1_delog`\n",
    "- 2nd model: `training_error_m2_delog`, `test_error_m2_delog`\n",
    "\n",
    "<!--\n",
    "BEGIN QUESTION\n",
    "name: q7v\n",
    "points: 2\n",
    "-->"
   ]
  },
  {
   "cell_type": "code",
   "execution_count": 53,
   "metadata": {},
   "outputs": [
    {
     "name": "stdout",
     "output_type": "stream",
     "text": [
      "1st Model\n",
      "Training RMSE: Log Sale Price    0.90445\n",
      "dtype: float64\n",
      "Test RMSE: Log Sale Price    0.900229\n",
      "dtype: float64\n",
      "\n",
      "1st Model (no log transform)\n",
      "Training RMSE: Sale Price    362397.591898\n",
      "dtype: float64\n",
      "Test RMSE: Sale Price    287206.373843\n",
      "dtype: float64\n",
      "\n",
      "2nd Model\n",
      "Training RMSE: Log Sale Price    0.806677\n",
      "dtype: float64\n",
      "Test RMSE: Log Sale Price    0.801533\n",
      "dtype: float64\n",
      "\n",
      "2nd Model (no log transform)\n",
      "Training RMSE: Sale Price    334709.792586\n",
      "dtype: float64\n",
      "Test RMSE: Sale Price    253645.656785\n",
      "dtype: float64\n",
      "\n"
     ]
    }
   ],
   "source": [
    "# Training and test errors for the 1st model\n",
    "training_error_m1 = rmse(y_fitted_m1, y_train_m1)\n",
    "test_error_m1 = rmse(y_predicted_m1, y_test_m1)\n",
    "\n",
    "# Training and test errors for the 1st model (in its original values before the log transform)\n",
    "linear_model_m1.fit(X_train_m1, train[['Sale Price']])\n",
    "y_fitted_m1_delog = linear_model_m1.predict(X_train_m1)\n",
    "y_predicted_m1_delog = linear_model_m1.predict(X_test_m1)\n",
    "\n",
    "training_error_m1_delog = rmse(y_fitted_m1_delog, train[['Sale Price']])\n",
    "test_error_m1_delog = rmse(y_predicted_m1_delog, test[['Sale Price']])\n",
    "\n",
    "\n",
    "# Training and test errors for the 2nd model\n",
    "training_error_m2 = rmse(y_fitted_m2, y_train_m2)\n",
    "test_error_m2 = rmse(y_predicted_m2, y_test_m2)\n",
    "\n",
    "\n",
    "# Training and test errors for the 2nd model (in its original values before the log transform)\n",
    "linear_model_m2.fit(X_train_m2, train[['Sale Price']])\n",
    "y_fitted_m2_delog = linear_model_m2.predict(X_train_m2)\n",
    "y_predicted_m2_delog = linear_model_m2.predict(X_test_m2)\n",
    "\n",
    "training_error_m2_delog = rmse(y_fitted_m2_delog, train[['Sale Price']])\n",
    "test_error_m2_delog = rmse(y_predicted_m2_delog, test[['Sale Price']])\n",
    "\n",
    "\n",
    "print(\"1st Model\\nTraining RMSE: {}\\nTest RMSE: {}\\n\".format(training_error_m1, test_error_m1))\n",
    "print(\"1st Model (no log transform)\\nTraining RMSE: {}\\nTest RMSE: {}\\n\".format(training_error_m1_delog, test_error_m1_delog))\n",
    "print(\"2nd Model\\nTraining RMSE: {}\\nTest RMSE: {}\\n\".format(training_error_m2, test_error_m2))\n",
    "print(\"2nd Model (no log transform)\\nTraining RMSE: {}\\nTest RMSE: {}\\n\".format(training_error_m2_delog, test_error_m2_delog))"
   ]
  },
  {
   "cell_type": "code",
   "execution_count": 54,
   "metadata": {
    "deletable": false,
    "editable": false
   },
   "outputs": [
    {
     "data": {
      "text/html": [
       "<p><strong style='color: red;'><pre style='display: inline;'>q7v</pre> results:</strong></p><p><strong><pre style='display: inline;'>q7v - 1</pre> result:</strong></p><pre>    Trying:\n",
       "        (training_error_m1 > 0) and (test_error_m1 > 0) == True\n",
       "    Expecting:\n",
       "        True\n",
       "    **********************************************************************\n",
       "    Line 1, in q7v 0\n",
       "    Failed example:\n",
       "        (training_error_m1 > 0) and (test_error_m1 > 0) == True\n",
       "    Exception raised:\n",
       "        Traceback (most recent call last):\n",
       "          File \"/Users/tanyawen/opt/anaconda3/lib/python3.8/doctest.py\", line 1336, in __run\n",
       "            exec(compile(example.source, filename, \"single\",\n",
       "          File \"<doctest q7v 0[0]>\", line 1, in <module>\n",
       "            (training_error_m1 > 0) and (test_error_m1 > 0) == True\n",
       "          File \"/Users/tanyawen/opt/anaconda3/lib/python3.8/site-packages/pandas/core/generic.py\", line 1329, in __nonzero__\n",
       "            raise ValueError(\n",
       "        ValueError: The truth value of a Series is ambiguous. Use a.empty, a.bool(), a.item(), a.any() or a.all().\n",
       "</pre><p><strong><pre style='display: inline;'>q7v - 2</pre> result:</strong></p><pre>    Trying:\n",
       "        (training_error_m2 > 0) and (test_error_m2 > 0) == True\n",
       "    Expecting:\n",
       "        True\n",
       "    **********************************************************************\n",
       "    Line 1, in q7v 1\n",
       "    Failed example:\n",
       "        (training_error_m2 > 0) and (test_error_m2 > 0) == True\n",
       "    Exception raised:\n",
       "        Traceback (most recent call last):\n",
       "          File \"/Users/tanyawen/opt/anaconda3/lib/python3.8/doctest.py\", line 1336, in __run\n",
       "            exec(compile(example.source, filename, \"single\",\n",
       "          File \"<doctest q7v 1[0]>\", line 1, in <module>\n",
       "            (training_error_m2 > 0) and (test_error_m2 > 0) == True\n",
       "          File \"/Users/tanyawen/opt/anaconda3/lib/python3.8/site-packages/pandas/core/generic.py\", line 1329, in __nonzero__\n",
       "            raise ValueError(\n",
       "        ValueError: The truth value of a Series is ambiguous. Use a.empty, a.bool(), a.item(), a.any() or a.all().\n",
       "</pre>"
      ],
      "text/plain": [
       "q7v results:\n",
       "    q7v - 1 result:\n",
       "        Trying:\n",
       "            (training_error_m1 > 0) and (test_error_m1 > 0) == True\n",
       "        Expecting:\n",
       "            True\n",
       "        **********************************************************************\n",
       "        Line 1, in q7v 0\n",
       "        Failed example:\n",
       "            (training_error_m1 > 0) and (test_error_m1 > 0) == True\n",
       "        Exception raised:\n",
       "            Traceback (most recent call last):\n",
       "              File \"/Users/tanyawen/opt/anaconda3/lib/python3.8/doctest.py\", line 1336, in __run\n",
       "                exec(compile(example.source, filename, \"single\",\n",
       "              File \"<doctest q7v 0[0]>\", line 1, in <module>\n",
       "                (training_error_m1 > 0) and (test_error_m1 > 0) == True\n",
       "              File \"/Users/tanyawen/opt/anaconda3/lib/python3.8/site-packages/pandas/core/generic.py\", line 1329, in __nonzero__\n",
       "                raise ValueError(\n",
       "            ValueError: The truth value of a Series is ambiguous. Use a.empty, a.bool(), a.item(), a.any() or a.all().\n",
       "\n",
       "    q7v - 2 result:\n",
       "        Trying:\n",
       "            (training_error_m2 > 0) and (test_error_m2 > 0) == True\n",
       "        Expecting:\n",
       "            True\n",
       "        **********************************************************************\n",
       "        Line 1, in q7v 1\n",
       "        Failed example:\n",
       "            (training_error_m2 > 0) and (test_error_m2 > 0) == True\n",
       "        Exception raised:\n",
       "            Traceback (most recent call last):\n",
       "              File \"/Users/tanyawen/opt/anaconda3/lib/python3.8/doctest.py\", line 1336, in __run\n",
       "                exec(compile(example.source, filename, \"single\",\n",
       "              File \"<doctest q7v 1[0]>\", line 1, in <module>\n",
       "                (training_error_m2 > 0) and (test_error_m2 > 0) == True\n",
       "              File \"/Users/tanyawen/opt/anaconda3/lib/python3.8/site-packages/pandas/core/generic.py\", line 1329, in __nonzero__\n",
       "                raise ValueError(\n",
       "            ValueError: The truth value of a Series is ambiguous. Use a.empty, a.bool(), a.item(), a.any() or a.all()."
      ]
     },
     "execution_count": 54,
     "metadata": {},
     "output_type": "execute_result"
    }
   ],
   "source": [
    "grader.check(\"q7v\")"
   ]
  },
  {
   "cell_type": "markdown",
   "metadata": {
    "deletable": false,
    "editable": false
   },
   "source": [
    "<!-- BEGIN QUESTION -->\n",
    "\n",
    "### Part 6\n",
    "\n",
    "Let's compare the actual parameters ($\\theta_0$ and $\\theta_1$) from both of our models. As a quick reminder,\n",
    "\n",
    "for the 1st model,\n",
    "$$\n",
    "\\text{Log Sale Price} = \\theta_0 + \\theta_1 \\cdot (\\text{Bedrooms})\n",
    "$$\n",
    "\n",
    "for the 2nd model,\n",
    "$$\n",
    "\\text{Log Sale Price} = \\theta_0 + \\theta_1 \\cdot (\\text{Bedrooms}) + \\theta_2 \\cdot (\\text{Log Building Square Feet})\n",
    "$$\n",
    "\n",
    "Run the following cell and compare the values of $\\theta_1$ from both models. Why does $\\theta_1$ change from positive to negative when we introduce an additional feature in our 2nd model? \n",
    "\n",
    "<!--\n",
    "BEGIN QUESTION\n",
    "name: q7vi\n",
    "points: 1\n",
    "manual: True\n",
    "-->"
   ]
  },
  {
   "cell_type": "code",
   "execution_count": 55,
   "metadata": {},
   "outputs": [
    {
     "data": {
      "text/plain": [
       "array([[ -4062.66902323, 479682.79316107]])"
      ]
     },
     "execution_count": 55,
     "metadata": {},
     "output_type": "execute_result"
    }
   ],
   "source": [
    "linear_model_m2.coef_"
   ]
  },
  {
   "cell_type": "code",
   "execution_count": 56,
   "metadata": {},
   "outputs": [
    {
     "name": "stdout",
     "output_type": "stream",
     "text": [
      "1st Model\n",
      "θ0: [-262725.58455645]\n",
      "θ1: [174488.98903716]\n",
      "2nd Model\n",
      "θ0: [-3186736.56364446]\n",
      "θ1: -4062.6690232290557\n",
      "θ2: 479682.79316106805\n"
     ]
    }
   ],
   "source": [
    "# Parameters from 1st model\n",
    "theta0_m1 = linear_model_m1.intercept_\n",
    "theta1_m1 = linear_model_m1.coef_[0]\n",
    "\n",
    "# Parameters from 2nd model\n",
    "theta0_m2 = linear_model_m2.intercept_\n",
    "theta1_m2, theta2_m2 = linear_model_m2.coef_[0]\n",
    "\n",
    "print(\"1st Model\\nθ0: {}\\nθ1: {}\".format(theta0_m1, theta1_m1))\n",
    "print(\"2nd Model\\nθ0: {}\\nθ1: {}\\nθ2: {}\".format(theta0_m2, theta1_m2, theta2_m2))"
   ]
  },
  {
   "cell_type": "markdown",
   "metadata": {},
   "source": [
    "Bedrooms and Log Building Square Feet are correlated"
   ]
  },
  {
   "cell_type": "markdown",
   "metadata": {
    "deletable": false,
    "editable": false,
    "nbgrader": {
     "grade": false,
     "grade_id": "cell-a359da2dda38fcdd",
     "locked": true,
     "schema_version": 1,
     "solution": false
    }
   },
   "source": [
    "<!-- END QUESTION -->\n",
    "\n",
    "<!-- BEGIN QUESTION -->\n",
    "\n",
    "### Part 7\n",
    "\n",
    "Another way of understanding the performance (and appropriateness) of a model is through a residual plot. \n",
    "\n",
    "In the cell below, use `plt.scatter` to plot the predicted `Log Sale Price` from **only the 2nd model** against the original `Log Sale Price` for the test data. You should also ensure that the dot size and opacity in the scatter plot are set appropriately to reduce the impact of overplotting.\n",
    "\n",
    "<!--\n",
    "BEGIN QUESTION\n",
    "name: q7vii\n",
    "points: 2\n",
    "manual: True\n",
    "format: image\n",
    "-->"
   ]
  },
  {
   "cell_type": "code",
   "execution_count": 57,
   "metadata": {
    "nbgrader": {
     "grade": false,
     "grade_id": "cell-4d79f42d60b94fca",
     "locked": true,
     "schema_version": 1,
     "solution": false
    }
   },
   "outputs": [
    {
     "data": {
      "text/plain": [
       "<matplotlib.collections.PathCollection at 0x7fe76b1e1e50>"
      ]
     },
     "execution_count": 57,
     "metadata": {},
     "output_type": "execute_result"
    },
    {
     "data": {
      "image/png": "[encoded data removed]",
      "text/plain": [
       "<Figure size 864x648 with 1 Axes>"
      ]
     },
     "metadata": {
      "needs_background": "light"
     },
     "output_type": "display_data"
    }
   ],
   "source": [
    "plt.scatter(y_predicted_m2, y_test_m2, s=1, alpha=0.5)"
   ]
  },
  {
   "cell_type": "markdown",
   "metadata": {},
   "source": [
    "<!-- END QUESTION -->\n",
    "\n",
    "\n",
    "\n",
    "As you can see, our simple model has already got off to a good start, but there is certainly still a lot of room for improvement to be made -- one simple reason is we have been only utilizing 1 or 2 features (out of a total of 70+) so far! Can you engineer and incoporate more features to improve the model's accuracy? We won't be asking you to provide your answers here, but this would be important going into the next part (also last part wohoo!) of this assignment."
   ]
  },
  {
   "cell_type": "markdown",
   "metadata": {
    "deletable": false,
    "editable": false
   },
   "source": [
    "## Question 8 <a name=\"q8c\"></a>\n",
    "\n",
    "It is time to build your own model!\n",
    "\n",
    "Just as in the guided model from the previous question, you should encapsulate as much of your workflow into functions as possible. Your job is to select better features and define your own feature engineering pipeline inside the function `process_data_fm` in the following cell. **You must not change the parameters inside `process_data_fm`**.\n",
    "\n",
    "To evaluate your model, we will start by defining a linear regression model called `final_model`. Then, we will process training data using your `process_data_fm`, fit `final_model` with this training data, and compute the training RMSE. Then, we will process the test data with your `process_data_fm`, use `final_model` to predict `Log Sale Price` for the test data, transform the predicted and original log values back into their original forms, and compute the test RMSE. See below for an example of the code we will run to grade your model:\n",
    "\n",
    "**Note**: `delog` is a function we will run to undo the log transformation on your predictions/original sale prices.\n",
    "```\n",
    "final_model = lm.LinearRegression(fit_intercept=True)\n",
    "\n",
    "training_data = pd.read_csv('cook_county_train.csv')\n",
    "test_data = pd.read_csv('cook_county_test.csv')\n",
    "\n",
    "X_train, y_train = process_data_fm(training_data)\n",
    "X_test, y_test = process_data_fm(test_data)\n",
    "\n",
    "final_model.fit(X_train, y_train)\n",
    "y_predicted_train = final_model.predict(X_train)\n",
    "y_predicted_test = final_model.predict(X_test)\n",
    "\n",
    "training_rmse = rmse(delog(y_predicted_train), delog(y_train))\n",
    "test_rmse = rmse(delog(y_predicted_test), delog(y_test))\n",
    "```\n",
    "\n",
    "**Note:** It is your duty to make sure that all of your feature engineering and selection happens in `process_data_fm`, and that the function performs as expected without errors. We will **NOT** accept regrade requests that require us to go back and run code that require typo/bug fixes.\n",
    "\n",
    "**Hint:** Some features may have missing values in the test set but not in the training set. Make sure `process_data_fm` handles missing values appropriately for each feature!\n",
    "\n",
    "**Note**: You **MUST remove any additional new cells you add below the current one before submitting to Gradescope** to avoid any autograder errors. \n",
    "\n",
    "### Grading Scheme\n",
    "\n",
    "Your grade for Question 8 will be based on your training RMSE and test RMSE. The thresholds are as follows:\n",
    "\n",
    "Points | 3 | 2 | 1 | 0\n",
    "--- | --- | --- | --- | ---\n",
    "Training RMSE | Less than 80k | [80k, 160k) | [160k, 260k) | More than 260k\n",
    "\n",
    "Points | 3 | 2 | 1 | 0\n",
    "--- | --- | --- | --- | ---\n",
    "Test RMSE | Less than 85k | [85k, 165k) | [165k, 265k) | More than 265k\n",
    "\n",
    "<!--\n",
    "BEGIN QUESTION\n",
    "name: q8\n",
    "points: 6\n",
    "-->"
   ]
  },
  {
   "cell_type": "code",
   "execution_count": 58,
   "metadata": {},
   "outputs": [],
   "source": [
    "# Define any additional helper functions you need here\n",
    "...\n",
    "...\n",
    "\n",
    "# Please include all of your feature engineering process inside this function.\n",
    "def process_data_fm(data):\n",
    "    ...\n",
    "    # Return predictors and response variables separately\n",
    "    X = data.drop(['Log Sale Price'], axis = 1)\n",
    "    y = data.loc[:, 'Log Sale Price']\n",
    "    return X, y"
   ]
  },
  {
   "cell_type": "code",
   "execution_count": 59,
   "metadata": {
    "deletable": false,
    "editable": false
   },
   "outputs": [
    {
     "data": {
      "text/html": [
       "<p><strong style='color: red;'><pre style='display: inline;'>q8</pre> results:</strong></p><p><strong><pre style='display: inline;'>q8 - 1</pre> result:</strong></p><pre>    Trying:\n",
       "        run_linear_regression_test(lm.LinearRegression(fit_intercept=True), process_data_fm, 80000, 'cook_county_train.csv', None, False)\n",
       "    Expecting:\n",
       "        True\n",
       "    **********************************************************************\n",
       "    Line 1, in q8 0\n",
       "    Failed example:\n",
       "        run_linear_regression_test(lm.LinearRegression(fit_intercept=True), process_data_fm, 80000, 'cook_county_train.csv', None, False)\n",
       "    Exception raised:\n",
       "        Traceback (most recent call last):\n",
       "          File \"/Users/tanyawen/opt/anaconda3/lib/python3.8/doctest.py\", line 1336, in __run\n",
       "            exec(compile(example.source, filename, \"single\",\n",
       "          File \"<doctest q8 0[0]>\", line 1, in <module>\n",
       "            run_linear_regression_test(lm.LinearRegression(fit_intercept=True), process_data_fm, 80000, 'cook_county_train.csv', None, False)\n",
       "          File \"/Users/tanyawen/Desktop/sp21-main/hw/hw7/ds100_utils.py\", line 88, in run_linear_regression_test\n",
       "            X_train, y_train = process_data_fm(training_data)\n",
       "          File \"<ipython-input-58-dd395163ca93>\", line 9, in process_data_fm\n",
       "            X = data.drop(['Log Sale Price'], axis = 1)\n",
       "          File \"/Users/tanyawen/opt/anaconda3/lib/python3.8/site-packages/pandas/core/frame.py\", line 4163, in drop\n",
       "            return super().drop(\n",
       "          File \"/Users/tanyawen/opt/anaconda3/lib/python3.8/site-packages/pandas/core/generic.py\", line 3887, in drop\n",
       "            obj = obj._drop_axis(labels, axis, level=level, errors=errors)\n",
       "          File \"/Users/tanyawen/opt/anaconda3/lib/python3.8/site-packages/pandas/core/generic.py\", line 3921, in _drop_axis\n",
       "            new_axis = axis.drop(labels, errors=errors)\n",
       "          File \"/Users/tanyawen/opt/anaconda3/lib/python3.8/site-packages/pandas/core/indexes/base.py\", line 5282, in drop\n",
       "            raise KeyError(f\"{labels[mask]} not found in axis\")\n",
       "        KeyError: \"['Log Sale Price'] not found in axis\"\n",
       "</pre><p><strong><pre style='display: inline;'>q8 - 2</pre> result:</strong></p><pre>    Trying:\n",
       "        run_linear_regression_test(lm.LinearRegression(fit_intercept=True), process_data_fm, 160000, 'cook_county_train.csv', None, False)\n",
       "    Expecting:\n",
       "        True\n",
       "    **********************************************************************\n",
       "    Line 1, in q8 1\n",
       "    Failed example:\n",
       "        run_linear_regression_test(lm.LinearRegression(fit_intercept=True), process_data_fm, 160000, 'cook_county_train.csv', None, False)\n",
       "    Exception raised:\n",
       "        Traceback (most recent call last):\n",
       "          File \"/Users/tanyawen/opt/anaconda3/lib/python3.8/doctest.py\", line 1336, in __run\n",
       "            exec(compile(example.source, filename, \"single\",\n",
       "          File \"<doctest q8 1[0]>\", line 1, in <module>\n",
       "            run_linear_regression_test(lm.LinearRegression(fit_intercept=True), process_data_fm, 160000, 'cook_county_train.csv', None, False)\n",
       "          File \"/Users/tanyawen/Desktop/sp21-main/hw/hw7/ds100_utils.py\", line 88, in run_linear_regression_test\n",
       "            X_train, y_train = process_data_fm(training_data)\n",
       "          File \"<ipython-input-58-dd395163ca93>\", line 9, in process_data_fm\n",
       "            X = data.drop(['Log Sale Price'], axis = 1)\n",
       "          File \"/Users/tanyawen/opt/anaconda3/lib/python3.8/site-packages/pandas/core/frame.py\", line 4163, in drop\n",
       "            return super().drop(\n",
       "          File \"/Users/tanyawen/opt/anaconda3/lib/python3.8/site-packages/pandas/core/generic.py\", line 3887, in drop\n",
       "            obj = obj._drop_axis(labels, axis, level=level, errors=errors)\n",
       "          File \"/Users/tanyawen/opt/anaconda3/lib/python3.8/site-packages/pandas/core/generic.py\", line 3921, in _drop_axis\n",
       "            new_axis = axis.drop(labels, errors=errors)\n",
       "          File \"/Users/tanyawen/opt/anaconda3/lib/python3.8/site-packages/pandas/core/indexes/base.py\", line 5282, in drop\n",
       "            raise KeyError(f\"{labels[mask]} not found in axis\")\n",
       "        KeyError: \"['Log Sale Price'] not found in axis\"\n",
       "</pre><p><strong><pre style='display: inline;'>q8 - 3</pre> result:</strong></p><pre>    Trying:\n",
       "        run_linear_regression_test(lm.LinearRegression(fit_intercept=True), process_data_fm, 260000, 'cook_county_train.csv', None, False)\n",
       "    Expecting:\n",
       "        True\n",
       "    **********************************************************************\n",
       "    Line 1, in q8 2\n",
       "    Failed example:\n",
       "        run_linear_regression_test(lm.LinearRegression(fit_intercept=True), process_data_fm, 260000, 'cook_county_train.csv', None, False)\n",
       "    Exception raised:\n",
       "        Traceback (most recent call last):\n",
       "          File \"/Users/tanyawen/opt/anaconda3/lib/python3.8/doctest.py\", line 1336, in __run\n",
       "            exec(compile(example.source, filename, \"single\",\n",
       "          File \"<doctest q8 2[0]>\", line 1, in <module>\n",
       "            run_linear_regression_test(lm.LinearRegression(fit_intercept=True), process_data_fm, 260000, 'cook_county_train.csv', None, False)\n",
       "          File \"/Users/tanyawen/Desktop/sp21-main/hw/hw7/ds100_utils.py\", line 88, in run_linear_regression_test\n",
       "            X_train, y_train = process_data_fm(training_data)\n",
       "          File \"<ipython-input-58-dd395163ca93>\", line 9, in process_data_fm\n",
       "            X = data.drop(['Log Sale Price'], axis = 1)\n",
       "          File \"/Users/tanyawen/opt/anaconda3/lib/python3.8/site-packages/pandas/core/frame.py\", line 4163, in drop\n",
       "            return super().drop(\n",
       "          File \"/Users/tanyawen/opt/anaconda3/lib/python3.8/site-packages/pandas/core/generic.py\", line 3887, in drop\n",
       "            obj = obj._drop_axis(labels, axis, level=level, errors=errors)\n",
       "          File \"/Users/tanyawen/opt/anaconda3/lib/python3.8/site-packages/pandas/core/generic.py\", line 3921, in _drop_axis\n",
       "            new_axis = axis.drop(labels, errors=errors)\n",
       "          File \"/Users/tanyawen/opt/anaconda3/lib/python3.8/site-packages/pandas/core/indexes/base.py\", line 5282, in drop\n",
       "            raise KeyError(f\"{labels[mask]} not found in axis\")\n",
       "        KeyError: \"['Log Sale Price'] not found in axis\"\n",
       "</pre><p><strong><pre style='display: inline;'>q8 - 4</pre> result:</strong></p><pre>    Trying:\n",
       "        run_linear_regression_test(lm.LinearRegression(fit_intercept=True), process_data_fm, 85000, 'cook_county_train.csv', 'cook_county_test_kaggle.csv', False)\n",
       "    Expecting:\n",
       "        True\n",
       "    **********************************************************************\n",
       "    Line 1, in q8 3\n",
       "    Failed example:\n",
       "        run_linear_regression_test(lm.LinearRegression(fit_intercept=True), process_data_fm, 85000, 'cook_county_train.csv', 'cook_county_test_kaggle.csv', False)\n",
       "    Exception raised:\n",
       "        Traceback (most recent call last):\n",
       "          File \"/Users/tanyawen/opt/anaconda3/lib/python3.8/doctest.py\", line 1336, in __run\n",
       "            exec(compile(example.source, filename, \"single\",\n",
       "          File \"<doctest q8 3[0]>\", line 1, in <module>\n",
       "            run_linear_regression_test(lm.LinearRegression(fit_intercept=True), process_data_fm, 85000, 'cook_county_train.csv', 'cook_county_test_kaggle.csv', False)\n",
       "          File \"/Users/tanyawen/Desktop/sp21-main/hw/hw7/ds100_utils.py\", line 88, in run_linear_regression_test\n",
       "            X_train, y_train = process_data_fm(training_data)\n",
       "          File \"<ipython-input-58-dd395163ca93>\", line 9, in process_data_fm\n",
       "            X = data.drop(['Log Sale Price'], axis = 1)\n",
       "          File \"/Users/tanyawen/opt/anaconda3/lib/python3.8/site-packages/pandas/core/frame.py\", line 4163, in drop\n",
       "            return super().drop(\n",
       "          File \"/Users/tanyawen/opt/anaconda3/lib/python3.8/site-packages/pandas/core/generic.py\", line 3887, in drop\n",
       "            obj = obj._drop_axis(labels, axis, level=level, errors=errors)\n",
       "          File \"/Users/tanyawen/opt/anaconda3/lib/python3.8/site-packages/pandas/core/generic.py\", line 3921, in _drop_axis\n",
       "            new_axis = axis.drop(labels, errors=errors)\n",
       "          File \"/Users/tanyawen/opt/anaconda3/lib/python3.8/site-packages/pandas/core/indexes/base.py\", line 5282, in drop\n",
       "            raise KeyError(f\"{labels[mask]} not found in axis\")\n",
       "        KeyError: \"['Log Sale Price'] not found in axis\"\n",
       "</pre><p><strong><pre style='display: inline;'>q8 - 5</pre> result:</strong></p><pre>    Trying:\n",
       "        run_linear_regression_test(lm.LinearRegression(fit_intercept=True), process_data_fm, 165000, 'cook_county_train.csv', 'cook_county_test_kaggle.csv', False)\n",
       "    Expecting:\n",
       "        True\n",
       "    **********************************************************************\n",
       "    Line 1, in q8 4\n",
       "    Failed example:\n",
       "        run_linear_regression_test(lm.LinearRegression(fit_intercept=True), process_data_fm, 165000, 'cook_county_train.csv', 'cook_county_test_kaggle.csv', False)\n",
       "    Exception raised:\n",
       "        Traceback (most recent call last):\n",
       "          File \"/Users/tanyawen/opt/anaconda3/lib/python3.8/doctest.py\", line 1336, in __run\n",
       "            exec(compile(example.source, filename, \"single\",\n",
       "          File \"<doctest q8 4[0]>\", line 1, in <module>\n",
       "            run_linear_regression_test(lm.LinearRegression(fit_intercept=True), process_data_fm, 165000, 'cook_county_train.csv', 'cook_county_test_kaggle.csv', False)\n",
       "          File \"/Users/tanyawen/Desktop/sp21-main/hw/hw7/ds100_utils.py\", line 88, in run_linear_regression_test\n",
       "            X_train, y_train = process_data_fm(training_data)\n",
       "          File \"<ipython-input-58-dd395163ca93>\", line 9, in process_data_fm\n",
       "            X = data.drop(['Log Sale Price'], axis = 1)\n",
       "          File \"/Users/tanyawen/opt/anaconda3/lib/python3.8/site-packages/pandas/core/frame.py\", line 4163, in drop\n",
       "            return super().drop(\n",
       "          File \"/Users/tanyawen/opt/anaconda3/lib/python3.8/site-packages/pandas/core/generic.py\", line 3887, in drop\n",
       "            obj = obj._drop_axis(labels, axis, level=level, errors=errors)\n",
       "          File \"/Users/tanyawen/opt/anaconda3/lib/python3.8/site-packages/pandas/core/generic.py\", line 3921, in _drop_axis\n",
       "            new_axis = axis.drop(labels, errors=errors)\n",
       "          File \"/Users/tanyawen/opt/anaconda3/lib/python3.8/site-packages/pandas/core/indexes/base.py\", line 5282, in drop\n",
       "            raise KeyError(f\"{labels[mask]} not found in axis\")\n",
       "        KeyError: \"['Log Sale Price'] not found in axis\"\n",
       "</pre><p><strong><pre style='display: inline;'>q8 - 6</pre> result:</strong></p><pre>    Trying:\n",
       "        run_linear_regression_test(lm.LinearRegression(fit_intercept=True), process_data_fm, 265000, 'cook_county_train.csv', 'cook_county_test_kaggle.csv', False)\n",
       "    Expecting:\n",
       "        True\n",
       "    **********************************************************************\n",
       "    Line 1, in q8 5\n",
       "    Failed example:\n",
       "        run_linear_regression_test(lm.LinearRegression(fit_intercept=True), process_data_fm, 265000, 'cook_county_train.csv', 'cook_county_test_kaggle.csv', False)\n",
       "    Exception raised:\n",
       "        Traceback (most recent call last):\n",
       "          File \"/Users/tanyawen/opt/anaconda3/lib/python3.8/doctest.py\", line 1336, in __run\n",
       "            exec(compile(example.source, filename, \"single\",\n",
       "          File \"<doctest q8 5[0]>\", line 1, in <module>\n",
       "            run_linear_regression_test(lm.LinearRegression(fit_intercept=True), process_data_fm, 265000, 'cook_county_train.csv', 'cook_county_test_kaggle.csv', False)\n",
       "          File \"/Users/tanyawen/Desktop/sp21-main/hw/hw7/ds100_utils.py\", line 88, in run_linear_regression_test\n",
       "            X_train, y_train = process_data_fm(training_data)\n",
       "          File \"<ipython-input-58-dd395163ca93>\", line 9, in process_data_fm\n",
       "            X = data.drop(['Log Sale Price'], axis = 1)\n",
       "          File \"/Users/tanyawen/opt/anaconda3/lib/python3.8/site-packages/pandas/core/frame.py\", line 4163, in drop\n",
       "            return super().drop(\n",
       "          File \"/Users/tanyawen/opt/anaconda3/lib/python3.8/site-packages/pandas/core/generic.py\", line 3887, in drop\n",
       "            obj = obj._drop_axis(labels, axis, level=level, errors=errors)\n",
       "          File \"/Users/tanyawen/opt/anaconda3/lib/python3.8/site-packages/pandas/core/generic.py\", line 3921, in _drop_axis\n",
       "            new_axis = axis.drop(labels, errors=errors)\n",
       "          File \"/Users/tanyawen/opt/anaconda3/lib/python3.8/site-packages/pandas/core/indexes/base.py\", line 5282, in drop\n",
       "            raise KeyError(f\"{labels[mask]} not found in axis\")\n",
       "        KeyError: \"['Log Sale Price'] not found in axis\"\n",
       "</pre>"
      ],
      "text/plain": [
       "q8 results:\n",
       "    q8 - 1 result:\n",
       "        Trying:\n",
       "            run_linear_regression_test(lm.LinearRegression(fit_intercept=True), process_data_fm, 80000, 'cook_county_train.csv', None, False)\n",
       "        Expecting:\n",
       "            True\n",
       "        **********************************************************************\n",
       "        Line 1, in q8 0\n",
       "        Failed example:\n",
       "            run_linear_regression_test(lm.LinearRegression(fit_intercept=True), process_data_fm, 80000, 'cook_county_train.csv', None, False)\n",
       "        Exception raised:\n",
       "            Traceback (most recent call last):\n",
       "              File \"/Users/tanyawen/opt/anaconda3/lib/python3.8/doctest.py\", line 1336, in __run\n",
       "                exec(compile(example.source, filename, \"single\",\n",
       "              File \"<doctest q8 0[0]>\", line 1, in <module>\n",
       "                run_linear_regression_test(lm.LinearRegression(fit_intercept=True), process_data_fm, 80000, 'cook_county_train.csv', None, False)\n",
       "              File \"/Users/tanyawen/Desktop/sp21-main/hw/hw7/ds100_utils.py\", line 88, in run_linear_regression_test\n",
       "                X_train, y_train = process_data_fm(training_data)\n",
       "              File \"<ipython-input-58-dd395163ca93>\", line 9, in process_data_fm\n",
       "                X = data.drop(['Log Sale Price'], axis = 1)\n",
       "              File \"/Users/tanyawen/opt/anaconda3/lib/python3.8/site-packages/pandas/core/frame.py\", line 4163, in drop\n",
       "                return super().drop(\n",
       "              File \"/Users/tanyawen/opt/anaconda3/lib/python3.8/site-packages/pandas/core/generic.py\", line 3887, in drop\n",
       "                obj = obj._drop_axis(labels, axis, level=level, errors=errors)\n",
       "              File \"/Users/tanyawen/opt/anaconda3/lib/python3.8/site-packages/pandas/core/generic.py\", line 3921, in _drop_axis\n",
       "                new_axis = axis.drop(labels, errors=errors)\n",
       "              File \"/Users/tanyawen/opt/anaconda3/lib/python3.8/site-packages/pandas/core/indexes/base.py\", line 5282, in drop\n",
       "                raise KeyError(f\"{labels[mask]} not found in axis\")\n",
       "            KeyError: \"['Log Sale Price'] not found in axis\"\n",
       "\n",
       "    q8 - 2 result:\n",
       "        Trying:\n",
       "            run_linear_regression_test(lm.LinearRegression(fit_intercept=True), process_data_fm, 160000, 'cook_county_train.csv', None, False)\n",
       "        Expecting:\n",
       "            True\n",
       "        **********************************************************************\n",
       "        Line 1, in q8 1\n",
       "        Failed example:\n",
       "            run_linear_regression_test(lm.LinearRegression(fit_intercept=True), process_data_fm, 160000, 'cook_county_train.csv', None, False)\n",
       "        Exception raised:\n",
       "            Traceback (most recent call last):\n",
       "              File \"/Users/tanyawen/opt/anaconda3/lib/python3.8/doctest.py\", line 1336, in __run\n",
       "                exec(compile(example.source, filename, \"single\",\n",
       "              File \"<doctest q8 1[0]>\", line 1, in <module>\n",
       "                run_linear_regression_test(lm.LinearRegression(fit_intercept=True), process_data_fm, 160000, 'cook_county_train.csv', None, False)\n",
       "              File \"/Users/tanyawen/Desktop/sp21-main/hw/hw7/ds100_utils.py\", line 88, in run_linear_regression_test\n",
       "                X_train, y_train = process_data_fm(training_data)\n",
       "              File \"<ipython-input-58-dd395163ca93>\", line 9, in process_data_fm\n",
       "                X = data.drop(['Log Sale Price'], axis = 1)\n",
       "              File \"/Users/tanyawen/opt/anaconda3/lib/python3.8/site-packages/pandas/core/frame.py\", line 4163, in drop\n",
       "                return super().drop(\n",
       "              File \"/Users/tanyawen/opt/anaconda3/lib/python3.8/site-packages/pandas/core/generic.py\", line 3887, in drop\n",
       "                obj = obj._drop_axis(labels, axis, level=level, errors=errors)\n",
       "              File \"/Users/tanyawen/opt/anaconda3/lib/python3.8/site-packages/pandas/core/generic.py\", line 3921, in _drop_axis\n",
       "                new_axis = axis.drop(labels, errors=errors)\n",
       "              File \"/Users/tanyawen/opt/anaconda3/lib/python3.8/site-packages/pandas/core/indexes/base.py\", line 5282, in drop\n",
       "                raise KeyError(f\"{labels[mask]} not found in axis\")\n",
       "            KeyError: \"['Log Sale Price'] not found in axis\"\n",
       "\n",
       "    q8 - 3 result:\n",
       "        Trying:\n",
       "            run_linear_regression_test(lm.LinearRegression(fit_intercept=True), process_data_fm, 260000, 'cook_county_train.csv', None, False)\n",
       "        Expecting:\n",
       "            True\n",
       "        **********************************************************************\n",
       "        Line 1, in q8 2\n",
       "        Failed example:\n",
       "            run_linear_regression_test(lm.LinearRegression(fit_intercept=True), process_data_fm, 260000, 'cook_county_train.csv', None, False)\n",
       "        Exception raised:\n",
       "            Traceback (most recent call last):\n",
       "              File \"/Users/tanyawen/opt/anaconda3/lib/python3.8/doctest.py\", line 1336, in __run\n",
       "                exec(compile(example.source, filename, \"single\",\n",
       "              File \"<doctest q8 2[0]>\", line 1, in <module>\n",
       "                run_linear_regression_test(lm.LinearRegression(fit_intercept=True), process_data_fm, 260000, 'cook_county_train.csv', None, False)\n",
       "              File \"/Users/tanyawen/Desktop/sp21-main/hw/hw7/ds100_utils.py\", line 88, in run_linear_regression_test\n",
       "                X_train, y_train = process_data_fm(training_data)\n",
       "              File \"<ipython-input-58-dd395163ca93>\", line 9, in process_data_fm\n",
       "                X = data.drop(['Log Sale Price'], axis = 1)\n",
       "              File \"/Users/tanyawen/opt/anaconda3/lib/python3.8/site-packages/pandas/core/frame.py\", line 4163, in drop\n",
       "                return super().drop(\n",
       "              File \"/Users/tanyawen/opt/anaconda3/lib/python3.8/site-packages/pandas/core/generic.py\", line 3887, in drop\n",
       "                obj = obj._drop_axis(labels, axis, level=level, errors=errors)\n",
       "              File \"/Users/tanyawen/opt/anaconda3/lib/python3.8/site-packages/pandas/core/generic.py\", line 3921, in _drop_axis\n",
       "                new_axis = axis.drop(labels, errors=errors)\n",
       "              File \"/Users/tanyawen/opt/anaconda3/lib/python3.8/site-packages/pandas/core/indexes/base.py\", line 5282, in drop\n",
       "                raise KeyError(f\"{labels[mask]} not found in axis\")\n",
       "            KeyError: \"['Log Sale Price'] not found in axis\"\n",
       "\n",
       "    q8 - 4 result:\n",
       "        Trying:\n",
       "            run_linear_regression_test(lm.LinearRegression(fit_intercept=True), process_data_fm, 85000, 'cook_county_train.csv', 'cook_county_test_kaggle.csv', False)\n",
       "        Expecting:\n",
       "            True\n",
       "        **********************************************************************\n",
       "        Line 1, in q8 3\n",
       "        Failed example:\n",
       "            run_linear_regression_test(lm.LinearRegression(fit_intercept=True), process_data_fm, 85000, 'cook_county_train.csv', 'cook_county_test_kaggle.csv', False)\n",
       "        Exception raised:\n",
       "            Traceback (most recent call last):\n",
       "              File \"/Users/tanyawen/opt/anaconda3/lib/python3.8/doctest.py\", line 1336, in __run\n",
       "                exec(compile(example.source, filename, \"single\",\n",
       "              File \"<doctest q8 3[0]>\", line 1, in <module>\n",
       "                run_linear_regression_test(lm.LinearRegression(fit_intercept=True), process_data_fm, 85000, 'cook_county_train.csv', 'cook_county_test_kaggle.csv', False)\n",
       "              File \"/Users/tanyawen/Desktop/sp21-main/hw/hw7/ds100_utils.py\", line 88, in run_linear_regression_test\n",
       "                X_train, y_train = process_data_fm(training_data)\n",
       "              File \"<ipython-input-58-dd395163ca93>\", line 9, in process_data_fm\n",
       "                X = data.drop(['Log Sale Price'], axis = 1)\n",
       "              File \"/Users/tanyawen/opt/anaconda3/lib/python3.8/site-packages/pandas/core/frame.py\", line 4163, in drop\n",
       "                return super().drop(\n",
       "              File \"/Users/tanyawen/opt/anaconda3/lib/python3.8/site-packages/pandas/core/generic.py\", line 3887, in drop\n",
       "                obj = obj._drop_axis(labels, axis, level=level, errors=errors)\n",
       "              File \"/Users/tanyawen/opt/anaconda3/lib/python3.8/site-packages/pandas/core/generic.py\", line 3921, in _drop_axis\n",
       "                new_axis = axis.drop(labels, errors=errors)\n",
       "              File \"/Users/tanyawen/opt/anaconda3/lib/python3.8/site-packages/pandas/core/indexes/base.py\", line 5282, in drop\n",
       "                raise KeyError(f\"{labels[mask]} not found in axis\")\n",
       "            KeyError: \"['Log Sale Price'] not found in axis\"\n",
       "\n",
       "    q8 - 5 result:\n",
       "        Trying:\n",
       "            run_linear_regression_test(lm.LinearRegression(fit_intercept=True), process_data_fm, 165000, 'cook_county_train.csv', 'cook_county_test_kaggle.csv', False)\n",
       "        Expecting:\n",
       "            True\n",
       "        **********************************************************************\n",
       "        Line 1, in q8 4\n",
       "        Failed example:\n",
       "            run_linear_regression_test(lm.LinearRegression(fit_intercept=True), process_data_fm, 165000, 'cook_county_train.csv', 'cook_county_test_kaggle.csv', False)\n",
       "        Exception raised:\n",
       "            Traceback (most recent call last):\n",
       "              File \"/Users/tanyawen/opt/anaconda3/lib/python3.8/doctest.py\", line 1336, in __run\n",
       "                exec(compile(example.source, filename, \"single\",\n",
       "              File \"<doctest q8 4[0]>\", line 1, in <module>\n",
       "                run_linear_regression_test(lm.LinearRegression(fit_intercept=True), process_data_fm, 165000, 'cook_county_train.csv', 'cook_county_test_kaggle.csv', False)\n",
       "              File \"/Users/tanyawen/Desktop/sp21-main/hw/hw7/ds100_utils.py\", line 88, in run_linear_regression_test\n",
       "                X_train, y_train = process_data_fm(training_data)\n",
       "              File \"<ipython-input-58-dd395163ca93>\", line 9, in process_data_fm\n",
       "                X = data.drop(['Log Sale Price'], axis = 1)\n",
       "              File \"/Users/tanyawen/opt/anaconda3/lib/python3.8/site-packages/pandas/core/frame.py\", line 4163, in drop\n",
       "                return super().drop(\n",
       "              File \"/Users/tanyawen/opt/anaconda3/lib/python3.8/site-packages/pandas/core/generic.py\", line 3887, in drop\n",
       "                obj = obj._drop_axis(labels, axis, level=level, errors=errors)\n",
       "              File \"/Users/tanyawen/opt/anaconda3/lib/python3.8/site-packages/pandas/core/generic.py\", line 3921, in _drop_axis\n",
       "                new_axis = axis.drop(labels, errors=errors)\n",
       "              File \"/Users/tanyawen/opt/anaconda3/lib/python3.8/site-packages/pandas/core/indexes/base.py\", line 5282, in drop\n",
       "                raise KeyError(f\"{labels[mask]} not found in axis\")\n",
       "            KeyError: \"['Log Sale Price'] not found in axis\"\n",
       "\n",
       "    q8 - 6 result:\n",
       "        Trying:\n",
       "            run_linear_regression_test(lm.LinearRegression(fit_intercept=True), process_data_fm, 265000, 'cook_county_train.csv', 'cook_county_test_kaggle.csv', False)\n",
       "        Expecting:\n",
       "            True\n",
       "        **********************************************************************\n",
       "        Line 1, in q8 5\n",
       "        Failed example:\n",
       "            run_linear_regression_test(lm.LinearRegression(fit_intercept=True), process_data_fm, 265000, 'cook_county_train.csv', 'cook_county_test_kaggle.csv', False)\n",
       "        Exception raised:\n",
       "            Traceback (most recent call last):\n",
       "              File \"/Users/tanyawen/opt/anaconda3/lib/python3.8/doctest.py\", line 1336, in __run\n",
       "                exec(compile(example.source, filename, \"single\",\n",
       "              File \"<doctest q8 5[0]>\", line 1, in <module>\n",
       "                run_linear_regression_test(lm.LinearRegression(fit_intercept=True), process_data_fm, 265000, 'cook_county_train.csv', 'cook_county_test_kaggle.csv', False)\n",
       "              File \"/Users/tanyawen/Desktop/sp21-main/hw/hw7/ds100_utils.py\", line 88, in run_linear_regression_test\n",
       "                X_train, y_train = process_data_fm(training_data)\n",
       "              File \"<ipython-input-58-dd395163ca93>\", line 9, in process_data_fm\n",
       "                X = data.drop(['Log Sale Price'], axis = 1)\n",
       "              File \"/Users/tanyawen/opt/anaconda3/lib/python3.8/site-packages/pandas/core/frame.py\", line 4163, in drop\n",
       "                return super().drop(\n",
       "              File \"/Users/tanyawen/opt/anaconda3/lib/python3.8/site-packages/pandas/core/generic.py\", line 3887, in drop\n",
       "                obj = obj._drop_axis(labels, axis, level=level, errors=errors)\n",
       "              File \"/Users/tanyawen/opt/anaconda3/lib/python3.8/site-packages/pandas/core/generic.py\", line 3921, in _drop_axis\n",
       "                new_axis = axis.drop(labels, errors=errors)\n",
       "              File \"/Users/tanyawen/opt/anaconda3/lib/python3.8/site-packages/pandas/core/indexes/base.py\", line 5282, in drop\n",
       "                raise KeyError(f\"{labels[mask]} not found in axis\")\n",
       "            KeyError: \"['Log Sale Price'] not found in axis\""
      ]
     },
     "execution_count": 59,
     "metadata": {},
     "output_type": "execute_result"
    }
   ],
   "source": [
    "grader.check(\"q8\")"
   ]
  },
  {
   "cell_type": "markdown",
   "metadata": {},
   "source": [
    "## Congratulations! You have finished Homework 7!"
   ]
  },
  {
   "cell_type": "markdown",
   "metadata": {
    "deletable": false,
    "editable": false
   },
   "source": [
    "---\n",
    "\n",
    "To double-check your work, the cell below will rerun all of the autograder tests."
   ]
  },
  {
   "cell_type": "code",
   "execution_count": 60,
   "metadata": {
    "deletable": false,
    "editable": false
   },
   "outputs": [
    {
     "data": {
      "text/plain": [
       "q1ii results: All test cases passed!\n",
       "\n",
       "q2i results: All test cases passed!\n",
       "\n",
       "q2ii results:\n",
       "    q2ii - 1 result:\n",
       "        Test case passed!\n",
       "\n",
       "    q2ii - 2 result:\n",
       "        Trying:\n",
       "            training_data['Log Building Square Feet'].mean() == 7.2914293261161\n",
       "        Expecting:\n",
       "            True\n",
       "        **********************************************************************\n",
       "        Line 1, in q2ii 1\n",
       "        Failed example:\n",
       "            training_data['Log Building Square Feet'].mean() == 7.2914293261161\n",
       "        Expected:\n",
       "            True\n",
       "        Got:\n",
       "            False\n",
       "\n",
       "q3i results: All test cases passed!\n",
       "\n",
       "q3ii results: All test cases passed!\n",
       "\n",
       "q4i results: All test cases passed!\n",
       "\n",
       "q4ii results: All test cases passed!\n",
       "\n",
       "q5i results: All test cases passed!\n",
       "\n",
       "q5ii results: All test cases passed!\n",
       "\n",
       "q5iv results: All test cases passed!\n",
       "\n",
       "q5v results: All test cases passed!\n",
       "\n",
       "q6i results: All test cases passed!\n",
       "\n",
       "q6ii results: All test cases passed!\n",
       "\n",
       "q7i results:\n",
       "    q7i - 1 result:\n",
       "        Trying:\n",
       "            train.shape == (135144, 72) # train should contain 80% of the data\n",
       "        Expecting:\n",
       "            True\n",
       "        **********************************************************************\n",
       "        Line 1, in q7i 0\n",
       "        Failed example:\n",
       "            train.shape == (135144, 72) # train should contain 80% of the data\n",
       "        Expected:\n",
       "            True\n",
       "        Got:\n",
       "            False\n",
       "\n",
       "    q7i - 2 result:\n",
       "        Trying:\n",
       "            test.shape == (33787, 72) # test should contain 20% of the data\n",
       "        Expecting:\n",
       "            True\n",
       "        **********************************************************************\n",
       "        Line 1, in q7i 1\n",
       "        Failed example:\n",
       "            test.shape == (33787, 72) # test should contain 20% of the data\n",
       "        Expected:\n",
       "            True\n",
       "        Got:\n",
       "            False\n",
       "\n",
       "    q7i - 3 result:\n",
       "        Test case passed!\n",
       "\n",
       "    q7i - 4 result:\n",
       "        Test case passed!\n",
       "\n",
       "q7iii results: All test cases passed!\n",
       "\n",
       "q7iv results:\n",
       "    q7iv - 1 result:\n",
       "        Trying:\n",
       "            np.isclose(y_fitted_m1.max(), 17.528601849438104, atol=0.0001) == True\n",
       "        Expecting:\n",
       "            True\n",
       "        **********************************************************************\n",
       "        Line 1, in q7iv 0\n",
       "        Failed example:\n",
       "            np.isclose(y_fitted_m1.max(), 17.528601849438104, atol=0.0001) == True\n",
       "        Expected:\n",
       "            True\n",
       "        Got:\n",
       "            False\n",
       "\n",
       "    q7iv - 2 result:\n",
       "        Trying:\n",
       "            np.isclose(y_fitted_m2.max(), 15.614096224439168, atol=0.0001) == True\n",
       "        Expecting:\n",
       "            True\n",
       "        **********************************************************************\n",
       "        Line 1, in q7iv 1\n",
       "        Failed example:\n",
       "            np.isclose(y_fitted_m2.max(), 15.614096224439168, atol=0.0001) == True\n",
       "        Expected:\n",
       "            True\n",
       "        Got:\n",
       "            False\n",
       "\n",
       "    q7iv - 3 result:\n",
       "        Trying:\n",
       "            np.isclose(y_predicted_m1.max(), 15.540922864181525, atol=0.0001) == True\n",
       "        Expecting:\n",
       "            True\n",
       "        **********************************************************************\n",
       "        Line 1, in q7iv 2\n",
       "        Failed example:\n",
       "            np.isclose(y_predicted_m1.max(), 15.540922864181525, atol=0.0001) == True\n",
       "        Expected:\n",
       "            True\n",
       "        Got:\n",
       "            False\n",
       "\n",
       "    q7iv - 4 result:\n",
       "        Trying:\n",
       "            np.isclose(y_predicted_m2.max(), 15.02563963305767, atol=0.0001) == True\n",
       "        Expecting:\n",
       "            True\n",
       "        **********************************************************************\n",
       "        Line 1, in q7iv 3\n",
       "        Failed example:\n",
       "            np.isclose(y_predicted_m2.max(), 15.02563963305767, atol=0.0001) == True\n",
       "        Expected:\n",
       "            True\n",
       "        Got:\n",
       "            False\n",
       "\n",
       "q7v results:\n",
       "    q7v - 1 result:\n",
       "        Trying:\n",
       "            (training_error_m1 > 0) and (test_error_m1 > 0) == True\n",
       "        Expecting:\n",
       "            True\n",
       "        **********************************************************************\n",
       "        Line 1, in q7v 0\n",
       "        Failed example:\n",
       "            (training_error_m1 > 0) and (test_error_m1 > 0) == True\n",
       "        Exception raised:\n",
       "            Traceback (most recent call last):\n",
       "              File \"/Users/tanyawen/opt/anaconda3/lib/python3.8/doctest.py\", line 1336, in __run\n",
       "                exec(compile(example.source, filename, \"single\",\n",
       "              File \"<doctest q7v 0[0]>\", line 1, in <module>\n",
       "                (training_error_m1 > 0) and (test_error_m1 > 0) == True\n",
       "              File \"/Users/tanyawen/opt/anaconda3/lib/python3.8/site-packages/pandas/core/generic.py\", line 1329, in __nonzero__\n",
       "                raise ValueError(\n",
       "            ValueError: The truth value of a Series is ambiguous. Use a.empty, a.bool(), a.item(), a.any() or a.all().\n",
       "\n",
       "    q7v - 2 result:\n",
       "        Trying:\n",
       "            (training_error_m2 > 0) and (test_error_m2 > 0) == True\n",
       "        Expecting:\n",
       "            True\n",
       "        **********************************************************************\n",
       "        Line 1, in q7v 1\n",
       "        Failed example:\n",
       "            (training_error_m2 > 0) and (test_error_m2 > 0) == True\n",
       "        Exception raised:\n",
       "            Traceback (most recent call last):\n",
       "              File \"/Users/tanyawen/opt/anaconda3/lib/python3.8/doctest.py\", line 1336, in __run\n",
       "                exec(compile(example.source, filename, \"single\",\n",
       "              File \"<doctest q7v 1[0]>\", line 1, in <module>\n",
       "                (training_error_m2 > 0) and (test_error_m2 > 0) == True\n",
       "              File \"/Users/tanyawen/opt/anaconda3/lib/python3.8/site-packages/pandas/core/generic.py\", line 1329, in __nonzero__\n",
       "                raise ValueError(\n",
       "            ValueError: The truth value of a Series is ambiguous. Use a.empty, a.bool(), a.item(), a.any() or a.all().\n",
       "\n",
       "q8 results:\n",
       "    q8 - 1 result:\n",
       "        Trying:\n",
       "            run_linear_regression_test(lm.LinearRegression(fit_intercept=True), process_data_fm, 80000, 'cook_county_train.csv', None, False)\n",
       "        Expecting:\n",
       "            True\n",
       "        **********************************************************************\n",
       "        Line 1, in q8 0\n",
       "        Failed example:\n",
       "            run_linear_regression_test(lm.LinearRegression(fit_intercept=True), process_data_fm, 80000, 'cook_county_train.csv', None, False)\n",
       "        Exception raised:\n",
       "            Traceback (most recent call last):\n",
       "              File \"/Users/tanyawen/opt/anaconda3/lib/python3.8/doctest.py\", line 1336, in __run\n",
       "                exec(compile(example.source, filename, \"single\",\n",
       "              File \"<doctest q8 0[0]>\", line 1, in <module>\n",
       "                run_linear_regression_test(lm.LinearRegression(fit_intercept=True), process_data_fm, 80000, 'cook_county_train.csv', None, False)\n",
       "              File \"/Users/tanyawen/Desktop/sp21-main/hw/hw7/ds100_utils.py\", line 88, in run_linear_regression_test\n",
       "                X_train, y_train = process_data_fm(training_data)\n",
       "              File \"<ipython-input-58-dd395163ca93>\", line 9, in process_data_fm\n",
       "                X = data.drop(['Log Sale Price'], axis = 1)\n",
       "              File \"/Users/tanyawen/opt/anaconda3/lib/python3.8/site-packages/pandas/core/frame.py\", line 4163, in drop\n",
       "                return super().drop(\n",
       "              File \"/Users/tanyawen/opt/anaconda3/lib/python3.8/site-packages/pandas/core/generic.py\", line 3887, in drop\n",
       "                obj = obj._drop_axis(labels, axis, level=level, errors=errors)\n",
       "              File \"/Users/tanyawen/opt/anaconda3/lib/python3.8/site-packages/pandas/core/generic.py\", line 3921, in _drop_axis\n",
       "                new_axis = axis.drop(labels, errors=errors)\n",
       "              File \"/Users/tanyawen/opt/anaconda3/lib/python3.8/site-packages/pandas/core/indexes/base.py\", line 5282, in drop\n",
       "                raise KeyError(f\"{labels[mask]} not found in axis\")\n",
       "            KeyError: \"['Log Sale Price'] not found in axis\"\n",
       "\n",
       "    q8 - 2 result:\n",
       "        Trying:\n",
       "            run_linear_regression_test(lm.LinearRegression(fit_intercept=True), process_data_fm, 160000, 'cook_county_train.csv', None, False)\n",
       "        Expecting:\n",
       "            True\n",
       "        **********************************************************************\n",
       "        Line 1, in q8 1\n",
       "        Failed example:\n",
       "            run_linear_regression_test(lm.LinearRegression(fit_intercept=True), process_data_fm, 160000, 'cook_county_train.csv', None, False)\n",
       "        Exception raised:\n",
       "            Traceback (most recent call last):\n",
       "              File \"/Users/tanyawen/opt/anaconda3/lib/python3.8/doctest.py\", line 1336, in __run\n",
       "                exec(compile(example.source, filename, \"single\",\n",
       "              File \"<doctest q8 1[0]>\", line 1, in <module>\n",
       "                run_linear_regression_test(lm.LinearRegression(fit_intercept=True), process_data_fm, 160000, 'cook_county_train.csv', None, False)\n",
       "              File \"/Users/tanyawen/Desktop/sp21-main/hw/hw7/ds100_utils.py\", line 88, in run_linear_regression_test\n",
       "                X_train, y_train = process_data_fm(training_data)\n",
       "              File \"<ipython-input-58-dd395163ca93>\", line 9, in process_data_fm\n",
       "                X = data.drop(['Log Sale Price'], axis = 1)\n",
       "              File \"/Users/tanyawen/opt/anaconda3/lib/python3.8/site-packages/pandas/core/frame.py\", line 4163, in drop\n",
       "                return super().drop(\n",
       "              File \"/Users/tanyawen/opt/anaconda3/lib/python3.8/site-packages/pandas/core/generic.py\", line 3887, in drop\n",
       "                obj = obj._drop_axis(labels, axis, level=level, errors=errors)\n",
       "              File \"/Users/tanyawen/opt/anaconda3/lib/python3.8/site-packages/pandas/core/generic.py\", line 3921, in _drop_axis\n",
       "                new_axis = axis.drop(labels, errors=errors)\n",
       "              File \"/Users/tanyawen/opt/anaconda3/lib/python3.8/site-packages/pandas/core/indexes/base.py\", line 5282, in drop\n",
       "                raise KeyError(f\"{labels[mask]} not found in axis\")\n",
       "            KeyError: \"['Log Sale Price'] not found in axis\"\n",
       "\n",
       "    q8 - 3 result:\n",
       "        Trying:\n",
       "            run_linear_regression_test(lm.LinearRegression(fit_intercept=True), process_data_fm, 260000, 'cook_county_train.csv', None, False)\n",
       "        Expecting:\n",
       "            True\n",
       "        **********************************************************************\n",
       "        Line 1, in q8 2\n",
       "        Failed example:\n",
       "            run_linear_regression_test(lm.LinearRegression(fit_intercept=True), process_data_fm, 260000, 'cook_county_train.csv', None, False)\n",
       "        Exception raised:\n",
       "            Traceback (most recent call last):\n",
       "              File \"/Users/tanyawen/opt/anaconda3/lib/python3.8/doctest.py\", line 1336, in __run\n",
       "                exec(compile(example.source, filename, \"single\",\n",
       "              File \"<doctest q8 2[0]>\", line 1, in <module>\n",
       "                run_linear_regression_test(lm.LinearRegression(fit_intercept=True), process_data_fm, 260000, 'cook_county_train.csv', None, False)\n",
       "              File \"/Users/tanyawen/Desktop/sp21-main/hw/hw7/ds100_utils.py\", line 88, in run_linear_regression_test\n",
       "                X_train, y_train = process_data_fm(training_data)\n",
       "              File \"<ipython-input-58-dd395163ca93>\", line 9, in process_data_fm\n",
       "                X = data.drop(['Log Sale Price'], axis = 1)\n",
       "              File \"/Users/tanyawen/opt/anaconda3/lib/python3.8/site-packages/pandas/core/frame.py\", line 4163, in drop\n",
       "                return super().drop(\n",
       "              File \"/Users/tanyawen/opt/anaconda3/lib/python3.8/site-packages/pandas/core/generic.py\", line 3887, in drop\n",
       "                obj = obj._drop_axis(labels, axis, level=level, errors=errors)\n",
       "              File \"/Users/tanyawen/opt/anaconda3/lib/python3.8/site-packages/pandas/core/generic.py\", line 3921, in _drop_axis\n",
       "                new_axis = axis.drop(labels, errors=errors)\n",
       "              File \"/Users/tanyawen/opt/anaconda3/lib/python3.8/site-packages/pandas/core/indexes/base.py\", line 5282, in drop\n",
       "                raise KeyError(f\"{labels[mask]} not found in axis\")\n",
       "            KeyError: \"['Log Sale Price'] not found in axis\"\n",
       "\n",
       "    q8 - 4 result:\n",
       "        Trying:\n",
       "            run_linear_regression_test(lm.LinearRegression(fit_intercept=True), process_data_fm, 85000, 'cook_county_train.csv', 'cook_county_test_kaggle.csv', False)\n",
       "        Expecting:\n",
       "            True\n",
       "        **********************************************************************\n",
       "        Line 1, in q8 3\n",
       "        Failed example:\n",
       "            run_linear_regression_test(lm.LinearRegression(fit_intercept=True), process_data_fm, 85000, 'cook_county_train.csv', 'cook_county_test_kaggle.csv', False)\n",
       "        Exception raised:\n",
       "            Traceback (most recent call last):\n",
       "              File \"/Users/tanyawen/opt/anaconda3/lib/python3.8/doctest.py\", line 1336, in __run\n",
       "                exec(compile(example.source, filename, \"single\",\n",
       "              File \"<doctest q8 3[0]>\", line 1, in <module>\n",
       "                run_linear_regression_test(lm.LinearRegression(fit_intercept=True), process_data_fm, 85000, 'cook_county_train.csv', 'cook_county_test_kaggle.csv', False)\n",
       "              File \"/Users/tanyawen/Desktop/sp21-main/hw/hw7/ds100_utils.py\", line 88, in run_linear_regression_test\n",
       "                X_train, y_train = process_data_fm(training_data)\n",
       "              File \"<ipython-input-58-dd395163ca93>\", line 9, in process_data_fm\n",
       "                X = data.drop(['Log Sale Price'], axis = 1)\n",
       "              File \"/Users/tanyawen/opt/anaconda3/lib/python3.8/site-packages/pandas/core/frame.py\", line 4163, in drop\n",
       "                return super().drop(\n",
       "              File \"/Users/tanyawen/opt/anaconda3/lib/python3.8/site-packages/pandas/core/generic.py\", line 3887, in drop\n",
       "                obj = obj._drop_axis(labels, axis, level=level, errors=errors)\n",
       "              File \"/Users/tanyawen/opt/anaconda3/lib/python3.8/site-packages/pandas/core/generic.py\", line 3921, in _drop_axis\n",
       "                new_axis = axis.drop(labels, errors=errors)\n",
       "              File \"/Users/tanyawen/opt/anaconda3/lib/python3.8/site-packages/pandas/core/indexes/base.py\", line 5282, in drop\n",
       "                raise KeyError(f\"{labels[mask]} not found in axis\")\n",
       "            KeyError: \"['Log Sale Price'] not found in axis\"\n",
       "\n",
       "    q8 - 5 result:\n",
       "        Trying:\n",
       "            run_linear_regression_test(lm.LinearRegression(fit_intercept=True), process_data_fm, 165000, 'cook_county_train.csv', 'cook_county_test_kaggle.csv', False)\n",
       "        Expecting:\n",
       "            True\n",
       "        **********************************************************************\n",
       "        Line 1, in q8 4\n",
       "        Failed example:\n",
       "            run_linear_regression_test(lm.LinearRegression(fit_intercept=True), process_data_fm, 165000, 'cook_county_train.csv', 'cook_county_test_kaggle.csv', False)\n",
       "        Exception raised:\n",
       "            Traceback (most recent call last):\n",
       "              File \"/Users/tanyawen/opt/anaconda3/lib/python3.8/doctest.py\", line 1336, in __run\n",
       "                exec(compile(example.source, filename, \"single\",\n",
       "              File \"<doctest q8 4[0]>\", line 1, in <module>\n",
       "                run_linear_regression_test(lm.LinearRegression(fit_intercept=True), process_data_fm, 165000, 'cook_county_train.csv', 'cook_county_test_kaggle.csv', False)\n",
       "              File \"/Users/tanyawen/Desktop/sp21-main/hw/hw7/ds100_utils.py\", line 88, in run_linear_regression_test\n",
       "                X_train, y_train = process_data_fm(training_data)\n",
       "              File \"<ipython-input-58-dd395163ca93>\", line 9, in process_data_fm\n",
       "                X = data.drop(['Log Sale Price'], axis = 1)\n",
       "              File \"/Users/tanyawen/opt/anaconda3/lib/python3.8/site-packages/pandas/core/frame.py\", line 4163, in drop\n",
       "                return super().drop(\n",
       "              File \"/Users/tanyawen/opt/anaconda3/lib/python3.8/site-packages/pandas/core/generic.py\", line 3887, in drop\n",
       "                obj = obj._drop_axis(labels, axis, level=level, errors=errors)\n",
       "              File \"/Users/tanyawen/opt/anaconda3/lib/python3.8/site-packages/pandas/core/generic.py\", line 3921, in _drop_axis\n",
       "                new_axis = axis.drop(labels, errors=errors)\n",
       "              File \"/Users/tanyawen/opt/anaconda3/lib/python3.8/site-packages/pandas/core/indexes/base.py\", line 5282, in drop\n",
       "                raise KeyError(f\"{labels[mask]} not found in axis\")\n",
       "            KeyError: \"['Log Sale Price'] not found in axis\"\n",
       "\n",
       "    q8 - 6 result:\n",
       "        Trying:\n",
       "            run_linear_regression_test(lm.LinearRegression(fit_intercept=True), process_data_fm, 265000, 'cook_county_train.csv', 'cook_county_test_kaggle.csv', False)\n",
       "        Expecting:\n",
       "            True\n",
       "        **********************************************************************\n",
       "        Line 1, in q8 5\n",
       "        Failed example:\n",
       "            run_linear_regression_test(lm.LinearRegression(fit_intercept=True), process_data_fm, 265000, 'cook_county_train.csv', 'cook_county_test_kaggle.csv', False)\n",
       "        Exception raised:\n",
       "            Traceback (most recent call last):\n",
       "              File \"/Users/tanyawen/opt/anaconda3/lib/python3.8/doctest.py\", line 1336, in __run\n",
       "                exec(compile(example.source, filename, \"single\",\n",
       "              File \"<doctest q8 5[0]>\", line 1, in <module>\n",
       "                run_linear_regression_test(lm.LinearRegression(fit_intercept=True), process_data_fm, 265000, 'cook_county_train.csv', 'cook_county_test_kaggle.csv', False)\n",
       "              File \"/Users/tanyawen/Desktop/sp21-main/hw/hw7/ds100_utils.py\", line 88, in run_linear_regression_test\n",
       "                X_train, y_train = process_data_fm(training_data)\n",
       "              File \"<ipython-input-58-dd395163ca93>\", line 9, in process_data_fm\n",
       "                X = data.drop(['Log Sale Price'], axis = 1)\n",
       "              File \"/Users/tanyawen/opt/anaconda3/lib/python3.8/site-packages/pandas/core/frame.py\", line 4163, in drop\n",
       "                return super().drop(\n",
       "              File \"/Users/tanyawen/opt/anaconda3/lib/python3.8/site-packages/pandas/core/generic.py\", line 3887, in drop\n",
       "                obj = obj._drop_axis(labels, axis, level=level, errors=errors)\n",
       "              File \"/Users/tanyawen/opt/anaconda3/lib/python3.8/site-packages/pandas/core/generic.py\", line 3921, in _drop_axis\n",
       "                new_axis = axis.drop(labels, errors=errors)\n",
       "              File \"/Users/tanyawen/opt/anaconda3/lib/python3.8/site-packages/pandas/core/indexes/base.py\", line 5282, in drop\n",
       "                raise KeyError(f\"{labels[mask]} not found in axis\")\n",
       "            KeyError: \"['Log Sale Price'] not found in axis\""
      ]
     },
     "execution_count": 60,
     "metadata": {},
     "output_type": "execute_result"
    }
   ],
   "source": [
    "grader.check_all()"
   ]
  },
  {
   "cell_type": "markdown",
   "metadata": {
    "deletable": false,
    "editable": false
   },
   "source": [
    "## Submission\n",
    "\n",
    "Make sure you have run all cells in your notebook in order before running the cell below, so that all images/graphs appear in the output. The cell below will generate a zip file for you to submit. **Please save before exporting!**"
   ]
  },
  {
   "cell_type": "code",
   "execution_count": 61,
   "metadata": {
    "deletable": false,
    "editable": false
   },
   "outputs": [
    {
     "ename": "OSError",
     "evalue": "xelatex not found on PATH, if you have not installed xelatex you may need to do so. Find further instructions at https://nbconvert.readthedocs.io/en/latest/install.html#installing-tex.",
     "output_type": "error",
     "traceback": [
      "\u001b[0;31m---------------------------------------------------------------------------\u001b[0m",
      "\u001b[0;31mOSError\u001b[0m                                   Traceback (most recent call last)",
      "\u001b[0;32m<ipython-input-61-f87f3c26df9f>\u001b[0m in \u001b[0;36m<module>\u001b[0;34m\u001b[0m\n\u001b[1;32m      1\u001b[0m \u001b[0;31m# Save your notebook first, then run this cell to export your submission.\u001b[0m\u001b[0;34m\u001b[0m\u001b[0;34m\u001b[0m\u001b[0;34m\u001b[0m\u001b[0m\n\u001b[0;32m----> 2\u001b[0;31m \u001b[0mgrader\u001b[0m\u001b[0;34m.\u001b[0m\u001b[0mexport\u001b[0m\u001b[0;34m(\u001b[0m\u001b[0;34m)\u001b[0m\u001b[0;34m\u001b[0m\u001b[0;34m\u001b[0m\u001b[0m\n\u001b[0m",
      "\u001b[0;32m~/opt/anaconda3/lib/python3.8/site-packages/otter/check/utils.py\u001b[0m in \u001b[0;36mcolab_only_method\u001b[0;34m(self, *args, **kwargs)\u001b[0m\n\u001b[1;32m     96\u001b[0m         \u001b[0;32mif\u001b[0m \u001b[0mself\u001b[0m\u001b[0;34m.\u001b[0m\u001b[0m_colab\u001b[0m\u001b[0;34m:\u001b[0m\u001b[0;34m\u001b[0m\u001b[0;34m\u001b[0m\u001b[0m\n\u001b[1;32m     97\u001b[0m             \u001b[0;32mraise\u001b[0m \u001b[0mRuntimeError\u001b[0m\u001b[0;34m(\u001b[0m\u001b[0;34m\"This method is not compatible with Google Colab\"\u001b[0m\u001b[0;34m)\u001b[0m\u001b[0;34m\u001b[0m\u001b[0;34m\u001b[0m\u001b[0m\n\u001b[0;32m---> 98\u001b[0;31m         \u001b[0;32mreturn\u001b[0m \u001b[0mf\u001b[0m\u001b[0;34m(\u001b[0m\u001b[0mself\u001b[0m\u001b[0;34m,\u001b[0m \u001b[0;34m*\u001b[0m\u001b[0margs\u001b[0m\u001b[0;34m,\u001b[0m \u001b[0;34m**\u001b[0m\u001b[0mkwargs\u001b[0m\u001b[0;34m)\u001b[0m\u001b[0;34m\u001b[0m\u001b[0;34m\u001b[0m\u001b[0m\n\u001b[0m\u001b[1;32m     99\u001b[0m     \u001b[0;32mreturn\u001b[0m \u001b[0mcolab_only_method\u001b[0m\u001b[0;34m\u001b[0m\u001b[0;34m\u001b[0m\u001b[0m\n\u001b[1;32m    100\u001b[0m \u001b[0;34m\u001b[0m\u001b[0m\n",
      "\u001b[0;32m~/opt/anaconda3/lib/python3.8/site-packages/otter/check/utils.py\u001b[0m in \u001b[0;36mrun_function\u001b[0;34m(self, *args, **kwargs)\u001b[0m\n\u001b[1;32m    130\u001b[0m                 \u001b[0;32mexcept\u001b[0m \u001b[0mException\u001b[0m \u001b[0;32mas\u001b[0m \u001b[0me\u001b[0m\u001b[0;34m:\u001b[0m\u001b[0;34m\u001b[0m\u001b[0;34m\u001b[0m\u001b[0m\n\u001b[1;32m    131\u001b[0m                     \u001b[0mself\u001b[0m\u001b[0;34m.\u001b[0m\u001b[0m_log_event\u001b[0m\u001b[0;34m(\u001b[0m\u001b[0mevent_type\u001b[0m\u001b[0;34m,\u001b[0m \u001b[0msuccess\u001b[0m\u001b[0;34m=\u001b[0m\u001b[0;32mFalse\u001b[0m\u001b[0;34m,\u001b[0m \u001b[0merror\u001b[0m\u001b[0;34m=\u001b[0m\u001b[0me\u001b[0m\u001b[0;34m)\u001b[0m\u001b[0;34m\u001b[0m\u001b[0;34m\u001b[0m\u001b[0m\n\u001b[0;32m--> 132\u001b[0;31m                     \u001b[0;32mraise\u001b[0m \u001b[0me\u001b[0m\u001b[0;34m\u001b[0m\u001b[0;34m\u001b[0m\u001b[0m\n\u001b[0m\u001b[1;32m    133\u001b[0m                 \u001b[0;32melse\u001b[0m\u001b[0;34m:\u001b[0m\u001b[0;34m\u001b[0m\u001b[0;34m\u001b[0m\u001b[0m\n\u001b[1;32m    134\u001b[0m                     \u001b[0mself\u001b[0m\u001b[0;34m.\u001b[0m\u001b[0m_log_event\u001b[0m\u001b[0;34m(\u001b[0m\u001b[0mevent_type\u001b[0m\u001b[0;34m,\u001b[0m \u001b[0mresults\u001b[0m\u001b[0;34m=\u001b[0m\u001b[0mresults\u001b[0m\u001b[0;34m,\u001b[0m \u001b[0mquestion\u001b[0m\u001b[0;34m=\u001b[0m\u001b[0mquestion\u001b[0m\u001b[0;34m,\u001b[0m \u001b[0mshelve_env\u001b[0m\u001b[0;34m=\u001b[0m\u001b[0mshelve_env\u001b[0m\u001b[0;34m)\u001b[0m\u001b[0;34m\u001b[0m\u001b[0;34m\u001b[0m\u001b[0m\n",
      "\u001b[0;32m~/opt/anaconda3/lib/python3.8/site-packages/otter/check/utils.py\u001b[0m in \u001b[0;36mrun_function\u001b[0;34m(self, *args, **kwargs)\u001b[0m\n\u001b[1;32m    125\u001b[0m                         \u001b[0mquestion\u001b[0m\u001b[0;34m,\u001b[0m \u001b[0mresults\u001b[0m\u001b[0;34m,\u001b[0m \u001b[0mshelve_env\u001b[0m \u001b[0;34m=\u001b[0m \u001b[0mf\u001b[0m\u001b[0;34m(\u001b[0m\u001b[0mself\u001b[0m\u001b[0;34m,\u001b[0m \u001b[0;34m*\u001b[0m\u001b[0margs\u001b[0m\u001b[0;34m,\u001b[0m \u001b[0;34m**\u001b[0m\u001b[0mkwargs\u001b[0m\u001b[0;34m)\u001b[0m\u001b[0;34m\u001b[0m\u001b[0;34m\u001b[0m\u001b[0m\n\u001b[1;32m    126\u001b[0m                     \u001b[0;32melse\u001b[0m\u001b[0;34m:\u001b[0m\u001b[0;34m\u001b[0m\u001b[0;34m\u001b[0m\u001b[0m\n\u001b[0;32m--> 127\u001b[0;31m                         \u001b[0mresults\u001b[0m \u001b[0;34m=\u001b[0m \u001b[0mf\u001b[0m\u001b[0;34m(\u001b[0m\u001b[0mself\u001b[0m\u001b[0;34m,\u001b[0m \u001b[0;34m*\u001b[0m\u001b[0margs\u001b[0m\u001b[0;34m,\u001b[0m \u001b[0;34m**\u001b[0m\u001b[0mkwargs\u001b[0m\u001b[0;34m)\u001b[0m\u001b[0;34m\u001b[0m\u001b[0;34m\u001b[0m\u001b[0m\n\u001b[0m\u001b[1;32m    128\u001b[0m                         \u001b[0mshelve_env\u001b[0m \u001b[0;34m=\u001b[0m \u001b[0;34m{\u001b[0m\u001b[0;34m}\u001b[0m\u001b[0;34m\u001b[0m\u001b[0;34m\u001b[0m\u001b[0m\n\u001b[1;32m    129\u001b[0m                         \u001b[0mquestion\u001b[0m \u001b[0;34m=\u001b[0m \u001b[0;32mNone\u001b[0m\u001b[0;34m\u001b[0m\u001b[0;34m\u001b[0m\u001b[0m\n",
      "\u001b[0;32m~/opt/anaconda3/lib/python3.8/site-packages/otter/check/notebook.py\u001b[0m in \u001b[0;36mexport\u001b[0;34m(self, nb_path, export_path, pdf, filtering, pagebreaks, files, display_link, force_save, run_tests)\u001b[0m\n\u001b[1;32m    320\u001b[0m             \u001b[0mpdf_path\u001b[0m \u001b[0;34m=\u001b[0m \u001b[0;34m\".\"\u001b[0m\u001b[0;34m.\u001b[0m\u001b[0mjoin\u001b[0m\u001b[0;34m(\u001b[0m\u001b[0mnb_path\u001b[0m\u001b[0;34m.\u001b[0m\u001b[0msplit\u001b[0m\u001b[0;34m(\u001b[0m\u001b[0;34m\".\"\u001b[0m\u001b[0;34m)\u001b[0m\u001b[0;34m[\u001b[0m\u001b[0;34m:\u001b[0m\u001b[0;34m-\u001b[0m\u001b[0;36m1\u001b[0m\u001b[0;34m]\u001b[0m\u001b[0;34m)\u001b[0m \u001b[0;34m+\u001b[0m \u001b[0;34m\".pdf\"\u001b[0m\u001b[0;34m\u001b[0m\u001b[0;34m\u001b[0m\u001b[0m\n\u001b[1;32m    321\u001b[0m             \u001b[0;31m# convert(nb_path, filtering=filtering, filter_type=filter_type)\u001b[0m\u001b[0;34m\u001b[0m\u001b[0;34m\u001b[0m\u001b[0;34m\u001b[0m\u001b[0m\n\u001b[0;32m--> 322\u001b[0;31m             \u001b[0mexport_notebook\u001b[0m\u001b[0;34m(\u001b[0m\u001b[0mnb_path\u001b[0m\u001b[0;34m,\u001b[0m \u001b[0mfiltering\u001b[0m\u001b[0;34m=\u001b[0m\u001b[0mfiltering\u001b[0m\u001b[0;34m,\u001b[0m \u001b[0mpagebreaks\u001b[0m\u001b[0;34m=\u001b[0m\u001b[0mpagebreaks\u001b[0m\u001b[0;34m)\u001b[0m\u001b[0;34m\u001b[0m\u001b[0;34m\u001b[0m\u001b[0m\n\u001b[0m\u001b[1;32m    323\u001b[0m             \u001b[0;32mif\u001b[0m \u001b[0mos\u001b[0m\u001b[0;34m.\u001b[0m\u001b[0mpath\u001b[0m\u001b[0;34m.\u001b[0m\u001b[0misfile\u001b[0m\u001b[0;34m(\u001b[0m\u001b[0mpdf_path\u001b[0m\u001b[0;34m)\u001b[0m\u001b[0;34m:\u001b[0m\u001b[0;34m\u001b[0m\u001b[0;34m\u001b[0m\u001b[0m\n\u001b[1;32m    324\u001b[0m                 \u001b[0mzf\u001b[0m\u001b[0;34m.\u001b[0m\u001b[0mwrite\u001b[0m\u001b[0;34m(\u001b[0m\u001b[0mpdf_path\u001b[0m\u001b[0;34m)\u001b[0m\u001b[0;34m\u001b[0m\u001b[0;34m\u001b[0m\u001b[0m\n",
      "\u001b[0;32m~/opt/anaconda3/lib/python3.8/site-packages/otter/export/__init__.py\u001b[0m in \u001b[0;36mexport_notebook\u001b[0;34m(nb_path, dest, debug, exporter_type, **kwargs)\u001b[0m\n\u001b[1;32m     31\u001b[0m     \u001b[0;31m# notebook_to_pdf(notebook, pdf_name, save_tex=save_tex, debug=debug)\u001b[0m\u001b[0;34m\u001b[0m\u001b[0;34m\u001b[0m\u001b[0;34m\u001b[0m\u001b[0m\n\u001b[1;32m     32\u001b[0m     \u001b[0mExporter\u001b[0m \u001b[0;34m=\u001b[0m \u001b[0mget_exporter\u001b[0m\u001b[0;34m(\u001b[0m\u001b[0mexporter_type\u001b[0m\u001b[0;34m=\u001b[0m\u001b[0mexporter_type\u001b[0m\u001b[0;34m)\u001b[0m\u001b[0;34m\u001b[0m\u001b[0;34m\u001b[0m\u001b[0m\n\u001b[0;32m---> 33\u001b[0;31m     \u001b[0mExporter\u001b[0m\u001b[0;34m.\u001b[0m\u001b[0mconvert_notebook\u001b[0m\u001b[0;34m(\u001b[0m\u001b[0mnb_path\u001b[0m\u001b[0;34m,\u001b[0m \u001b[0mpdf_name\u001b[0m\u001b[0;34m,\u001b[0m \u001b[0mdebug\u001b[0m\u001b[0;34m=\u001b[0m\u001b[0mdebug\u001b[0m\u001b[0;34m,\u001b[0m \u001b[0;34m**\u001b[0m\u001b[0mkwargs\u001b[0m\u001b[0;34m)\u001b[0m\u001b[0;34m\u001b[0m\u001b[0;34m\u001b[0m\u001b[0m\n\u001b[0m\u001b[1;32m     34\u001b[0m \u001b[0;34m\u001b[0m\u001b[0m\n\u001b[1;32m     35\u001b[0m \u001b[0;34m\u001b[0m\u001b[0m\n",
      "\u001b[0;32m~/opt/anaconda3/lib/python3.8/site-packages/otter/export/exporters/via_latex.py\u001b[0m in \u001b[0;36mconvert_notebook\u001b[0;34m(cls, nb_path, dest, debug, **kwargs)\u001b[0m\n\u001b[1;32m     53\u001b[0m \u001b[0;34m\u001b[0m\u001b[0m\n\u001b[1;32m     54\u001b[0m         \u001b[0;32mtry\u001b[0m\u001b[0;34m:\u001b[0m\u001b[0;34m\u001b[0m\u001b[0;34m\u001b[0m\u001b[0m\n\u001b[0;32m---> 55\u001b[0;31m             \u001b[0mpdf_output\u001b[0m \u001b[0;34m=\u001b[0m \u001b[0mpdf_exporter\u001b[0m\u001b[0;34m.\u001b[0m\u001b[0mfrom_notebook_node\u001b[0m\u001b[0;34m(\u001b[0m\u001b[0mnb\u001b[0m\u001b[0;34m)\u001b[0m\u001b[0;34m\u001b[0m\u001b[0;34m\u001b[0m\u001b[0m\n\u001b[0m\u001b[1;32m     56\u001b[0m             \u001b[0;32mwith\u001b[0m \u001b[0mopen\u001b[0m\u001b[0;34m(\u001b[0m\u001b[0mdest\u001b[0m\u001b[0;34m,\u001b[0m \u001b[0;34m\"wb\"\u001b[0m\u001b[0;34m)\u001b[0m \u001b[0;32mas\u001b[0m \u001b[0moutput_file\u001b[0m\u001b[0;34m:\u001b[0m\u001b[0;34m\u001b[0m\u001b[0;34m\u001b[0m\u001b[0m\n\u001b[1;32m     57\u001b[0m                 \u001b[0moutput_file\u001b[0m\u001b[0;34m.\u001b[0m\u001b[0mwrite\u001b[0m\u001b[0;34m(\u001b[0m\u001b[0mpdf_output\u001b[0m\u001b[0;34m[\u001b[0m\u001b[0;36m0\u001b[0m\u001b[0;34m]\u001b[0m\u001b[0;34m)\u001b[0m\u001b[0;34m\u001b[0m\u001b[0;34m\u001b[0m\u001b[0m\n",
      "\u001b[0;32m~/opt/anaconda3/lib/python3.8/site-packages/nbconvert/exporters/pdf.py\u001b[0m in \u001b[0;36mfrom_notebook_node\u001b[0;34m(self, nb, resources, **kw)\u001b[0m\n\u001b[1;32m    181\u001b[0m             \u001b[0mtex_file\u001b[0m \u001b[0;34m=\u001b[0m \u001b[0mself\u001b[0m\u001b[0;34m.\u001b[0m\u001b[0mwriter\u001b[0m\u001b[0;34m.\u001b[0m\u001b[0mwrite\u001b[0m\u001b[0;34m(\u001b[0m\u001b[0mlatex\u001b[0m\u001b[0;34m,\u001b[0m \u001b[0mresources\u001b[0m\u001b[0;34m,\u001b[0m \u001b[0mnotebook_name\u001b[0m\u001b[0;34m=\u001b[0m\u001b[0mnotebook_name\u001b[0m\u001b[0;34m)\u001b[0m\u001b[0;34m\u001b[0m\u001b[0;34m\u001b[0m\u001b[0m\n\u001b[1;32m    182\u001b[0m             \u001b[0mself\u001b[0m\u001b[0;34m.\u001b[0m\u001b[0mlog\u001b[0m\u001b[0;34m.\u001b[0m\u001b[0minfo\u001b[0m\u001b[0;34m(\u001b[0m\u001b[0;34m\"Building PDF\"\u001b[0m\u001b[0;34m)\u001b[0m\u001b[0;34m\u001b[0m\u001b[0;34m\u001b[0m\u001b[0m\n\u001b[0;32m--> 183\u001b[0;31m             \u001b[0mself\u001b[0m\u001b[0;34m.\u001b[0m\u001b[0mrun_latex\u001b[0m\u001b[0;34m(\u001b[0m\u001b[0mtex_file\u001b[0m\u001b[0;34m)\u001b[0m\u001b[0;34m\u001b[0m\u001b[0;34m\u001b[0m\u001b[0m\n\u001b[0m\u001b[1;32m    184\u001b[0m             \u001b[0;32mif\u001b[0m \u001b[0mself\u001b[0m\u001b[0;34m.\u001b[0m\u001b[0mrun_bib\u001b[0m\u001b[0;34m(\u001b[0m\u001b[0mtex_file\u001b[0m\u001b[0;34m)\u001b[0m\u001b[0;34m:\u001b[0m\u001b[0;34m\u001b[0m\u001b[0;34m\u001b[0m\u001b[0m\n\u001b[1;32m    185\u001b[0m                 \u001b[0mself\u001b[0m\u001b[0;34m.\u001b[0m\u001b[0mrun_latex\u001b[0m\u001b[0;34m(\u001b[0m\u001b[0mtex_file\u001b[0m\u001b[0;34m)\u001b[0m\u001b[0;34m\u001b[0m\u001b[0;34m\u001b[0m\u001b[0m\n",
      "\u001b[0;32m~/opt/anaconda3/lib/python3.8/site-packages/nbconvert/exporters/pdf.py\u001b[0m in \u001b[0;36mrun_latex\u001b[0;34m(self, filename, raise_on_failure)\u001b[0m\n\u001b[1;32m    151\u001b[0m             \u001b[0mself\u001b[0m\u001b[0;34m.\u001b[0m\u001b[0mlog\u001b[0m\u001b[0;34m.\u001b[0m\u001b[0mcritical\u001b[0m\u001b[0;34m(\u001b[0m\u001b[0;34mu\"%s failed: %s\\n%s\"\u001b[0m\u001b[0;34m,\u001b[0m \u001b[0mcommand\u001b[0m\u001b[0;34m[\u001b[0m\u001b[0;36m0\u001b[0m\u001b[0;34m]\u001b[0m\u001b[0;34m,\u001b[0m \u001b[0mcommand\u001b[0m\u001b[0;34m,\u001b[0m \u001b[0mout\u001b[0m\u001b[0;34m)\u001b[0m\u001b[0;34m\u001b[0m\u001b[0;34m\u001b[0m\u001b[0m\n\u001b[1;32m    152\u001b[0m \u001b[0;34m\u001b[0m\u001b[0m\n\u001b[0;32m--> 153\u001b[0;31m         return self.run_command(self.latex_command, filename,\n\u001b[0m\u001b[1;32m    154\u001b[0m             self.latex_count, log_error, raise_on_failure)\n\u001b[1;32m    155\u001b[0m \u001b[0;34m\u001b[0m\u001b[0m\n",
      "\u001b[0;32m~/opt/anaconda3/lib/python3.8/site-packages/nbconvert/exporters/pdf.py\u001b[0m in \u001b[0;36mrun_command\u001b[0;34m(self, command_list, filename, count, log_function, raise_on_failure)\u001b[0m\n\u001b[1;32m    108\u001b[0m         \u001b[0;32mif\u001b[0m \u001b[0mcmd\u001b[0m \u001b[0;32mis\u001b[0m \u001b[0;32mNone\u001b[0m\u001b[0;34m:\u001b[0m\u001b[0;34m\u001b[0m\u001b[0;34m\u001b[0m\u001b[0m\n\u001b[1;32m    109\u001b[0m             \u001b[0mlink\u001b[0m \u001b[0;34m=\u001b[0m \u001b[0;34m\"https://nbconvert.readthedocs.io/en/latest/install.html#installing-tex\"\u001b[0m\u001b[0;34m\u001b[0m\u001b[0;34m\u001b[0m\u001b[0m\n\u001b[0;32m--> 110\u001b[0;31m             raise OSError(\"{formatter} not found on PATH, if you have not installed \"\n\u001b[0m\u001b[1;32m    111\u001b[0m                           \u001b[0;34m\"{formatter} you may need to do so. Find further instructions \"\u001b[0m\u001b[0;34m\u001b[0m\u001b[0;34m\u001b[0m\u001b[0m\n\u001b[1;32m    112\u001b[0m                           \"at {link}.\".format(formatter=command_list[0], link=link))\n",
      "\u001b[0;31mOSError\u001b[0m: xelatex not found on PATH, if you have not installed xelatex you may need to do so. Find further instructions at https://nbconvert.readthedocs.io/en/latest/install.html#installing-tex."
     ]
    }
   ],
   "source": [
    "# Save your notebook first, then run this cell to export your submission.\n",
    "grader.export()"
   ]
  },
  {
   "cell_type": "markdown",
   "metadata": {},
   "source": [
    " "
   ]
  }
 ],
 "metadata": {
  "celltoolbar": "Create Assignment",
  "kernelspec": {
   "display_name": "Python 3",
   "language": "python",
   "name": "python3"
  },
  "language_info": {
   "codemirror_mode": {
    "name": "ipython",
    "version": 3
   },
   "file_extension": ".py",
   "mimetype": "text/x-python",
   "name": "python",
   "nbconvert_exporter": "python",
   "pygments_lexer": "ipython3",
   "version": "3.8.5"
  }
 },
 "nbformat": 4,
 "nbformat_minor": 2
}
