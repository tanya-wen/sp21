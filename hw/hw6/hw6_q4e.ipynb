{
 "cells": [
  {
   "cell_type": "code",
   "execution_count": 1,
   "id": "emerging-destiny",
   "metadata": {},
   "outputs": [],
   "source": [
    "# Please do not edit this part\n",
    "import numpy as np\n",
    "import matplotlib.pyplot as plt\n",
    "np.random.seed(41)\n",
    "# Please do not edit this part"
   ]
  },
  {
   "cell_type": "markdown",
   "id": "foster-jacket",
   "metadata": {},
   "source": [
    "### Important Note\n",
    "\n",
    "For ease of submission, we suggest downloading a PDF of your notebook and merging it with a PDF of your written/typed work, using platforms such as [smallpdf](www.smallpdf.com), [sodapdf](www.sodapdf.com), [combinedpdf](www.combinedpdf.com), etc. and then assigning only the part of the PDF containing the plot for question 4e ie. please **don't** assign the entire notebook PDF for question 4e. In addition to the figure from the [Make a Plot](#Make-a-Plot), answer the following 2 questions listed in the main assignment and include your answers in your submission for Question 4e:\n",
    "- In your plot, does the simple linear regression model without an intercept term have the same slope as the model with an intercept term?\n",
    "- Describe one shortcoming for a simple linear regression model without an intercept term.\n"
   ]
  },
  {
   "cell_type": "markdown",
   "id": "sudden-bahamas",
   "metadata": {},
   "source": [
    "## Question 4e"
   ]
  },
  {
   "cell_type": "markdown",
   "id": "looking-effort",
   "metadata": {},
   "source": [
    "Now that you have done some analysis on whether some of the properties still hold for a simple linear regression model without an intercept term, let's actually run a simulation to confirm our findings. \n",
    "\n",
    "Complete the following the functions and statements to plot a graph of the simple linear regression model with an intercept term v.s. one without an intercept term. \n",
    "\n",
    "The slope ($\\hat{\\gamma}$) of your fitted line (without the intercept term) should be defined based on what you have shown in question 3:\n",
    "$$\n",
    "\\hat{\\gamma} = \\frac{\\sum x_i y_i}{\\sum x_i^2}\n",
    "$$\n"
   ]
  },
  {
   "cell_type": "code",
   "execution_count": 2,
   "id": "intimate-abortion",
   "metadata": {},
   "outputs": [],
   "source": [
    "# This function helps generate a synthesized dataset based on a given gamma value\n",
    "def generate_dataset(gamma, std=1, num_samples=100, with_intercept=True):\n",
    "    X = np.random.random_sample(num_samples)\n",
    "    e = np.random.randn(num_samples) * std \n",
    "    intercept = -int(with_intercept) * 2\n",
    "    Y = gamma * X + intercept + e\n",
    "    return X, Y"
   ]
  },
  {
   "cell_type": "markdown",
   "id": "varied-geography",
   "metadata": {},
   "source": [
    "Run the cell below to generate the synthesized dataset."
   ]
  },
  {
   "cell_type": "code",
   "execution_count": 3,
   "id": "collaborative-tribute",
   "metadata": {},
   "outputs": [],
   "source": [
    "dataset = generate_dataset(gamma=10)\n",
    "X, Y = dataset"
   ]
  },
  {
   "cell_type": "markdown",
   "id": "binary-relevance",
   "metadata": {},
   "source": [
    "Complete the following function `calculate_gamma` that computes the value of the slope for your model based on whether or not an intercept term is specified within the model.\n",
    "\n",
    "**Hint**: To calculate the slope for your simple linear regression model **when it has an intercept term**, check out the function [np.corrcoef](https://numpy.org/doc/stable/reference/generated/numpy.corrcoef.html)."
   ]
  },
  {
   "cell_type": "code",
   "execution_count": 18,
   "id": "surrounded-alloy",
   "metadata": {},
   "outputs": [],
   "source": [
    "def calculate_gamma(X, Y, with_intercept):\n",
    "    if with_intercept:\n",
    "        gamma_hat = np.corrcoef(X,Y)[1,0] * np.std(Y) / np.std(X)\n",
    "    else:\n",
    "        gamma_hat = sum(X*Y) / sum(X**2)\n",
    "    return gamma_hat"
   ]
  },
  {
   "cell_type": "markdown",
   "id": "level-subdivision",
   "metadata": {},
   "source": [
    "Complete the following function `linear_model` that outputs a predicted value from your simple linear regression model based on whether or not an intercept is specified within the model."
   ]
  },
  {
   "cell_type": "code",
   "execution_count": 19,
   "id": "conscious-springer",
   "metadata": {},
   "outputs": [],
   "source": [
    "def linear_model(x, gamma, intercept, with_intercept):\n",
    "    if with_intercept:\n",
    "        Y_hat = [i + intercept for i in (gamma * x)]\n",
    "    else:\n",
    "        Y_hat = gamma * x\n",
    "    return Y_hat"
   ]
  },
  {
   "cell_type": "code",
   "execution_count": 20,
   "id": "concerned-click",
   "metadata": {},
   "outputs": [],
   "source": [
    "# Compute the estimated slope with & without an intercept\n",
    "gamma_with_intercept = calculate_gamma(X, Y, with_intercept=True)\n",
    "gamma_without_intercept = calculate_gamma(X, Y, with_intercept=False)\n",
    "\n",
    "# Compute the estimtaed intercept\n",
    "intercept_hat = np.mean(Y) - gamma_with_intercept * np.mean(X)\n",
    "\n",
    "# Compute the predicted y values using a simple linear regression model with & without an intercept\n",
    "Y_hat_with_intercept = linear_model(X, gamma_with_intercept, intercept_hat, True)\n",
    "Y_hat_without_intercept = linear_model(X, gamma_without_intercept, intercept_hat, False)\n",
    "\n",
    "# Compute the residual vector for all of the predicted y values from the model without an intercept\n",
    "residual_without_intercept = Y - Y_hat_without_intercept"
   ]
  },
  {
   "cell_type": "markdown",
   "id": "english-dining",
   "metadata": {},
   "source": [
    "### A Quick Numerical Check\n",
    "In parts 4a, 4b, and 4c, you have answered a few True/False questions about whether certain properties still hold for the simplified linear regression model without an intercept term. Now would be a great opportunity for you to actually numerically check if the synthesized dataset empirically agrees with your answers to the earlier parts of this question.\n",
    "\n",
    "Run through the following few cells and see if it matches what you originally expected."
   ]
  },
  {
   "cell_type": "markdown",
   "id": "corresponding-student",
   "metadata": {},
   "source": [
    "#### Proposed statement from 4a\n",
    "\n",
    "$$\\sum_{i=1}^n e_i = 0$$"
   ]
  },
  {
   "cell_type": "code",
   "execution_count": 7,
   "id": "emotional-union",
   "metadata": {},
   "outputs": [
    {
     "data": {
      "text/plain": [
       "False"
      ]
     },
     "execution_count": 7,
     "metadata": {},
     "output_type": "execute_result"
    }
   ],
   "source": [
    "np.isclose(np.sum(residual_without_intercept), 0)"
   ]
  },
  {
   "cell_type": "markdown",
   "id": "romantic-behalf",
   "metadata": {},
   "source": [
    "#### Proposed statement from 4b\n",
    "\n",
    "The column vector $\\vec{x}$ and the residual vector $e$ are orthogonal."
   ]
  },
  {
   "cell_type": "code",
   "execution_count": 8,
   "id": "recent-response",
   "metadata": {},
   "outputs": [
    {
     "data": {
      "text/plain": [
       "True"
      ]
     },
     "execution_count": 8,
     "metadata": {},
     "output_type": "execute_result"
    }
   ],
   "source": [
    "np.isclose(np.sum(X * residual_without_intercept), 0)"
   ]
  },
  {
   "cell_type": "markdown",
   "id": "mental-profile",
   "metadata": {},
   "source": [
    "#### Proposed statement from 4c\n",
    "\n",
    "The predicted response vector $\\hat{\\mathbb{Y}}$ and the residual vector $e$ are orthogonal."
   ]
  },
  {
   "cell_type": "code",
   "execution_count": 9,
   "id": "welsh-discovery",
   "metadata": {},
   "outputs": [
    {
     "data": {
      "text/plain": [
       "True"
      ]
     },
     "execution_count": 9,
     "metadata": {},
     "output_type": "execute_result"
    }
   ],
   "source": [
    "np.isclose(np.sum(Y_hat_without_intercept * residual_without_intercept), 0)"
   ]
  },
  {
   "cell_type": "markdown",
   "id": "owned-mediterranean",
   "metadata": {},
   "source": [
    "### Make a Plot"
   ]
  },
  {
   "cell_type": "markdown",
   "id": "lesbian-attachment",
   "metadata": {},
   "source": [
    "Finally, let's create a plot below comparing our fitted simple linear regression model on the observed data for when it includes an intercept v.s. when it does not include an intercept. Your plot should include at least the following:\n",
    "- A scatter plot of all the observed data\n",
    "- A line plot for the simple linear regression model without an intercept\n",
    "- A line plot for the simple linear regression model with an intercept\n",
    "- An appropriate title, a legend labeling which line contains an intercept, and labels for both axes\n",
    "\n",
    "You should also mark the point $(\\bar{x}, \\bar{y})$ in your plot with a different marker style, color, or size. \n",
    "\n",
    "**Note**: As a reminder, $\\bar{x}$ represents the average of all of the $x$ values in our observed data. The same goes for $\\bar{y}$."
   ]
  },
  {
   "cell_type": "code",
   "execution_count": 22,
   "id": "sharing-treaty",
   "metadata": {},
   "outputs": [
    {
     "data": {
      "text/plain": [
       "Text(0, 0.5, 'y')"
      ]
     },
     "execution_count": 22,
     "metadata": {},
     "output_type": "execute_result"
    },
    {
     "data": {
      "image/png": "[encoded data removed]",
      "text/plain": [
       "<Figure size 432x288 with 1 Axes>"
      ]
     },
     "metadata": {
      "needs_background": "light"
     },
     "output_type": "display_data"
    }
   ],
   "source": [
    "plt.scatter(X,Y)\n",
    "x = np.linspace(0,1,100)\n",
    "y = gamma_without_intercept * x\n",
    "plt.plot(x,y,'-r', label='without intercept')\n",
    "x = np.linspace(0,1,100)\n",
    "y = intercept_hat + gamma_with_intercept * x\n",
    "plt.plot(x,y,'-g', label='with intercept')\n",
    "plt.title('Graph of regression with and without intercept')\n",
    "plt.xlabel('x')\n",
    "plt.ylabel('y')"
   ]
  }
 ],
 "metadata": {
  "kernelspec": {
   "display_name": "Python 3",
   "language": "python",
   "name": "python3"
  },
  "language_info": {
   "codemirror_mode": {
    "name": "ipython",
    "version": 3
   },
   "file_extension": ".py",
   "mimetype": "text/x-python",
   "name": "python",
   "nbconvert_exporter": "python",
   "pygments_lexer": "ipython3",
   "version": "3.8.5"
  }
 },
 "nbformat": 4,
 "nbformat_minor": 5
}
